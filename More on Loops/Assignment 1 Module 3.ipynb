{
 "cells": [
  {
   "cell_type": "markdown",
   "id": "39f3294c",
   "metadata": {},
   "source": [
    "# Trailing zeros in n!"
   ]
  },
  {
   "cell_type": "code",
   "execution_count": 2,
   "id": "47108391",
   "metadata": {},
   "outputs": [
    {
     "name": "stdout",
     "output_type": "stream",
     "text": [
      "50\n",
      "Count of trailing 0's 10\n"
     ]
    }
   ],
   "source": [
    "def findTrailingzeros(n):\n",
    "    if n<0:\n",
    "        return -1\n",
    "    count=0\n",
    "    while n>=5:\n",
    "        n//=5\n",
    "        count+=n\n",
    "        return count\n",
    "n=int(input())\n",
    "print(\"Count of trailing 0's\", findTrailingzeros(n))"
   ]
  },
  {
   "cell_type": "markdown",
   "id": "089df3db",
   "metadata": {},
   "source": [
    "# Even Fibonacci Numbers "
   ]
  },
  {
   "cell_type": "code",
   "execution_count": 8,
   "id": "947af0ba",
   "metadata": {},
   "outputs": [
    {
     "name": "stdout",
     "output_type": "stream",
     "text": [
      "400\n",
      "188\n"
     ]
    }
   ],
   "source": [
    "n=int(input())\n",
    "a=1\n",
    "b=1\n",
    "c=1\n",
    "sum=0\n",
    "while c<=n:\n",
    "    c=a+b\n",
    "    if c>n:\n",
    "        break\n",
    "    if c%2==0:\n",
    "        sum=sum+c\n",
    "    a=b\n",
    "    b=c\n",
    "   \n",
    "print(sum)\n",
    "    \n",
    "    "
   ]
  }
 ],
 "metadata": {
  "kernelspec": {
   "display_name": "Python 3 (ipykernel)",
   "language": "python",
   "name": "python3"
  },
  "language_info": {
   "codemirror_mode": {
    "name": "ipython",
    "version": 3
   },
   "file_extension": ".py",
   "mimetype": "text/x-python",
   "name": "python",
   "nbconvert_exporter": "python",
   "pygments_lexer": "ipython3",
   "version": "3.9.7"
  }
 },
 "nbformat": 4,
 "nbformat_minor": 5
}
