{
 "cells": [
  {
   "cell_type": "markdown",
   "id": "e127e0c1",
   "metadata": {},
   "source": [
    "### Print first 3 rows of the file ,excluding the header (in different lines).Print column of one row ,seperated by space."
   ]
  },
  {
   "cell_type": "code",
   "execution_count": 1,
   "id": "dd538089",
   "metadata": {},
   "outputs": [],
   "source": [
    "import csv"
   ]
  },
  {
   "cell_type": "code",
   "execution_count": 21,
   "id": "fe973239",
   "metadata": {},
   "outputs": [
    {
     "name": "stdout",
     "output_type": "stream",
     "text": [
      "['2017', '1', '2', 'Afghanistan', 'South Asia', 'Takhta Pul', '31.320556', '65.961111', 'Hostage Taking (Kidnapping)', '0.0', '0.0', 'Construction Workers', 'Taliban', 'Business', 'Firearms', '0.0']\n",
      "\n",
      "['2017', '1', '3', 'Sudan', 'Sub-Saharan Africa', 'Fantaga', '12.921007000000001', '24.318324', 'Armed Assault', '2.0', '0.0', 'Civilians: Haroun Yousif, Hamid Ibrahim', 'Unknown', 'Private Citizens & Property', 'Firearms', '2.0']\n",
      "\n",
      "['2017', '1', '1', 'Democratic Republic of the Congo', 'Sub-Saharan Africa', 'Saboko', '1.452372', '29.875162', 'Armed Assault', '7.0', '0.0', 'Village', 'Allied Democratic Forces (ADF)', 'Private Citizens & Property', 'Melee', '7.0']\n",
      "\n"
     ]
    }
   ],
   "source": [
    "\n",
    "with open('Desktop/year2017.csv') as file_obj:\n",
    "\n",
    "    file_data=csv.reader(file_obj,skipinitialspace=True)\n",
    "    next(file_data)\n",
    "    for i in range(3):\n",
    "        print(next(file_data))\n",
    "        print()\n",
    "   \n",
    "        "
   ]
  }
 ],
 "metadata": {
  "kernelspec": {
   "display_name": "Python 3 (ipykernel)",
   "language": "python",
   "name": "python3"
  },
  "language_info": {
   "codemirror_mode": {
    "name": "ipython",
    "version": 3
   },
   "file_extension": ".py",
   "mimetype": "text/x-python",
   "name": "python",
   "nbconvert_exporter": "python",
   "pygments_lexer": "ipython3",
   "version": "3.9.7"
  }
 },
 "nbformat": 4,
 "nbformat_minor": 5
}
