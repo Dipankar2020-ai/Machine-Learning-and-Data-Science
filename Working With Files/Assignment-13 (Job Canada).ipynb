{
 "cells": [
  {
   "cell_type": "markdown",
   "id": "ddef82f9",
   "metadata": {},
   "source": [
    "Problem-3 : Job Canada\n",
    "    \n",
    "Problem Statement :\n",
    "Find the number of job openings in Canada?\n",
    "Print the count as the Integer Value\n",
    "Note: Here you should analyse the country code in location feature."
   ]
  },
  {
   "cell_type": "code",
   "execution_count": 1,
   "id": "830faabc",
   "metadata": {},
   "outputs": [],
   "source": [
    "import csv"
   ]
  },
  {
   "cell_type": "code",
   "execution_count": 4,
   "id": "737f5cdd",
   "metadata": {},
   "outputs": [
    {
     "name": "stdout",
     "output_type": "stream",
     "text": [
      "156\n"
     ]
    }
   ],
   "source": [
    "with open('Desktop/amazon_jobs_dataset.csv', encoding=\"utf8\") as file_obj:\n",
    "    file_data=csv.DictReader(file_obj,skipinitialspace=True)\n",
    "    jobopening=0\n",
    "    for row in file_data:\n",
    "        if row['location'].startswith(\"CA\") :\n",
    "            jobopening+=1\n",
    "    print(jobopening)"
   ]
  }
 ],
 "metadata": {
  "kernelspec": {
   "display_name": "Python 3 (ipykernel)",
   "language": "python",
   "name": "python3"
  },
  "language_info": {
   "codemirror_mode": {
    "name": "ipython",
    "version": 3
   },
   "file_extension": ".py",
   "mimetype": "text/x-python",
   "name": "python",
   "nbconvert_exporter": "python",
   "pygments_lexer": "ipython3",
   "version": "3.9.7"
  }
 },
 "nbformat": 4,
 "nbformat_minor": 5
}
