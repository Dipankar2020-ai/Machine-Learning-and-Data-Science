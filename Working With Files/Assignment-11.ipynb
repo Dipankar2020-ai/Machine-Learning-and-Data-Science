{
 "cells": [
  {
   "cell_type": "markdown",
   "id": "12fd2696",
   "metadata": {},
   "source": [
    "Given File 'amazonjobsdataset.csv'\n",
    "It is a dataset including information on amazon job opening around the world from June 2011 to March 2018. This dataset is collected using Selenium and BeautifulSoup by scraping all of the jobs for Amazon job site."
   ]
  },
  {
   "cell_type": "markdown",
   "id": "7cab2774",
   "metadata": {},
   "source": [
    "### Problem Statement :\n",
    "\n",
    " Find number of job openings in Bangalore,IN and in Seattle,US?\n",
    " Print the Number of Job opening in Bangalore and Seattle as Integer value."
   ]
  },
  {
   "cell_type": "code",
   "execution_count": 17,
   "id": "77ed3076",
   "metadata": {},
   "outputs": [],
   "source": [
    "import csv\n"
   ]
  },
  {
   "cell_type": "code",
   "execution_count": 16,
   "id": "6813f023",
   "metadata": {},
   "outputs": [
    {
     "name": "stdout",
     "output_type": "stream",
     "text": [
      "66 1856\n"
     ]
    }
   ],
   "source": [
    "with open('Desktop/amazon_jobs_dataset.csv',encoding=\"utf8\") as file_obj:\n",
    "    file_data=csv.DictReader(file_obj,skipinitialspace=True)\n",
    "    count=0\n",
    "    count1=0\n",
    "    for row in file_data:\n",
    "        if 'Bangalore' in row['location'] :\n",
    "            count+=1\n",
    "        if 'Seattle' in row['location'] :\n",
    "            count1+=1\n",
    "    print(count,count1)\n",
    "\n",
    "\n",
    "\n",
    "\n"
   ]
  }
 ],
 "metadata": {
  "kernelspec": {
   "display_name": "Python 3 (ipykernel)",
   "language": "python",
   "name": "python3"
  },
  "language_info": {
   "codemirror_mode": {
    "name": "ipython",
    "version": 3
   },
   "file_extension": ".py",
   "mimetype": "text/x-python",
   "name": "python",
   "nbconvert_exporter": "python",
   "pygments_lexer": "ipython3",
   "version": "3.9.7"
  }
 },
 "nbformat": 4,
 "nbformat_minor": 5
}
