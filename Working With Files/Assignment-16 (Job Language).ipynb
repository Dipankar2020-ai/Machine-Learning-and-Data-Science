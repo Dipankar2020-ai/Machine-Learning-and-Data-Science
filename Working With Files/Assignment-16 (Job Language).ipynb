{
 "cells": [
  {
   "cell_type": "markdown",
   "id": "3f26192a",
   "metadata": {},
   "source": [
    "### Problem Statement :\n",
    "\n",
    "Among Java, C++ and Python, which of the language has more job openings in India for Bachelor Degree Holder?\n",
    "Print the Language(i.e Java,C++,Python) and number of job opening as integer value.\n",
    "Note : Here we will use the BASIC QUALIFICATIONS feature to find out whether bachelor degree for Job is required or not. Keywords that can be used are 'Bachelor', 'BS' and 'BA' and we will use the BASIC QUALIFICATIONS feature to find out whether Language is required for the job or not.Keywords that is used for language searching are 'Java','C++' or 'Python'.(There case should not be changed).\n",
    "\n"
   ]
  },
  {
   "cell_type": "code",
   "execution_count": 1,
   "id": "08364bf7",
   "metadata": {},
   "outputs": [],
   "source": [
    "import csv"
   ]
  },
  {
   "cell_type": "code",
   "execution_count": 9,
   "id": "fa794ab6",
   "metadata": {},
   "outputs": [
    {
     "name": "stdout",
     "output_type": "stream",
     "text": [
      "Java 103\n"
     ]
    }
   ],
   "source": [
    "with open('Desktop/amazon_jobs_dataset.csv',encoding=\"utf8\") as file_obj:\n",
    "    file_data=csv.DictReader(file_obj,skipinitialspace=True)\n",
    "    python=0\n",
    "    c=0\n",
    "    java=0\n",
    "    for row in file_data:\n",
    "        country=row['location'].split(',')[0]\n",
    "        if country==\"IN\":\n",
    "            bachelor=row['BASIC QUALIFICATIONS']\n",
    "            if 'Bachelor' in bachelor or 'BA' in bachelor or 'BS' in bachelor:\n",
    "                \n",
    "                if 'Python' in bachelor:\n",
    "                    python+=1\n",
    "                if 'C++' in bachelor:\n",
    "                    c+=1\n",
    "                if 'Java' in bachelor:\n",
    "                        java+=1\n",
    "    if python>java and python>c:\n",
    "        print(\"Python\",python)\n",
    "    elif java>python and java>c:\n",
    "        print(\"Java\",java)\n",
    "    else:\n",
    "        print(\"C++\",c)\n",
    "        \n",
    "                        "
   ]
  }
 ],
 "metadata": {
  "kernelspec": {
   "display_name": "Python 3 (ipykernel)",
   "language": "python",
   "name": "python3"
  },
  "language_info": {
   "codemirror_mode": {
    "name": "ipython",
    "version": 3
   },
   "file_extension": ".py",
   "mimetype": "text/x-python",
   "name": "python",
   "nbconvert_exporter": "python",
   "pygments_lexer": "ipython3",
   "version": "3.9.7"
  }
 },
 "nbformat": 4,
 "nbformat_minor": 5
}
