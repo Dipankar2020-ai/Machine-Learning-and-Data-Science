{
 "cells": [
  {
   "cell_type": "markdown",
   "id": "d8ce1271",
   "metadata": {},
   "source": [
    "## Problem Statement :\n",
    "\n",
    "Find the country does Amazon need the most number of Java Developer?\n",
    "Print the Country(Country Shortcut as given in Dataset) and number of job opening as integer value\n",
    "Note :Here we will use the BASIC QUALIFICATIONS feature to find out whether Java is required for the job or not.Keyword is used is 'Java'.(Here case should not be changed)."
   ]
  },
  {
   "cell_type": "code",
   "execution_count": 1,
   "id": "a5cab0e5",
   "metadata": {},
   "outputs": [],
   "source": [
    "import csv"
   ]
  },
  {
   "cell_type": "code",
   "execution_count": 8,
   "id": "251c8fde",
   "metadata": {},
   "outputs": [
    {
     "name": "stdout",
     "output_type": "stream",
     "text": [
      "US 2009\n"
     ]
    }
   ],
   "source": [
    "with open('Desktop/amazon_jobs_dataset.csv',encoding=\"utf8\") as file_obj:\n",
    "    file_data=csv.DictReader(file_obj,skipinitialspace=True)\n",
    "    ans={}\n",
    "\n",
    "    for row in file_data:\n",
    "       \n",
    "        bachelor=row['BASIC QUALIFICATIONS']\n",
    "        if 'Java' in bachelor:\n",
    "            key=row['location'].split(',')[0]\n",
    "            if key in ans:\n",
    "                ans[key]+=1\n",
    "            else:\n",
    "                    \n",
    "                ans[key]=1\n",
    "            \n",
    "            \n",
    "        \n",
    "    max1=-1\n",
    "    pos=-1\n",
    "    for i in ans:\n",
    "        if ans[i]>max1:\n",
    "            max1=ans[i]\n",
    "            pos=i\n",
    "    print(pos,max1)\n",
    "            "
   ]
  }
 ],
 "metadata": {
  "kernelspec": {
   "display_name": "Python 3 (ipykernel)",
   "language": "python",
   "name": "python3"
  },
  "language_info": {
   "codemirror_mode": {
    "name": "ipython",
    "version": 3
   },
   "file_extension": ".py",
   "mimetype": "text/x-python",
   "name": "python",
   "nbconvert_exporter": "python",
   "pygments_lexer": "ipython3",
   "version": "3.9.7"
  }
 },
 "nbformat": 4,
 "nbformat_minor": 5
}
