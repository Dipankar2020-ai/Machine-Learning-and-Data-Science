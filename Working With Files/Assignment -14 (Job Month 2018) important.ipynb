{
 "cells": [
  {
   "cell_type": "markdown",
   "id": "01af45a3",
   "metadata": {},
   "source": [
    "## Problem-4 : Job Month 2018 \n",
    "    \n",
    "Problem Statement :\n",
    "    \n",
    "Find the month having most job openings in Year 2018 ?\n",
    "Print the month (Month Name i.e January, February, March) and Number of job opening as Integer Value"
   ]
  },
  {
   "cell_type": "code",
   "execution_count": 1,
   "id": "50432661",
   "metadata": {},
   "outputs": [],
   "source": [
    "import csv"
   ]
  },
  {
   "cell_type": "code",
   "execution_count": 4,
   "id": "e830d804",
   "metadata": {},
   "outputs": [
    {
     "name": "stdout",
     "output_type": "stream",
     "text": [
      "January 907\n"
     ]
    }
   ],
   "source": [
    "with open('Desktop/amazon_jobs_dataset.csv', encoding=\"utf8\") as file_obj:\n",
    "    file_data=csv.DictReader(file_obj,skipinitialspace=True)\n",
    "    \n",
    "    d={}\n",
    "    for row in file_data:\n",
    "        date = row['Posting_date'].split(',')\n",
    "        if date[1].strip() == '2018' :\n",
    "            month = date[0].split()[0]\n",
    "            if month in d :\n",
    "                d[month] += 1\n",
    "            else:\n",
    "                d[month] = 1\n",
    "    month_name=''\n",
    "    count=-1\n",
    "    for i in d:\n",
    "        if d[i]>count:\n",
    "            count=d[i]\n",
    "            month_name=i\n",
    "    print(month_name,count)\n"
   ]
  }
 ],
 "metadata": {
  "kernelspec": {
   "display_name": "Python 3 (ipykernel)",
   "language": "python",
   "name": "python3"
  },
  "language_info": {
   "codemirror_mode": {
    "name": "ipython",
    "version": 3
   },
   "file_extension": ".py",
   "mimetype": "text/x-python",
   "name": "python",
   "nbconvert_exporter": "python",
   "pygments_lexer": "ipython3",
   "version": "3.9.7"
  }
 },
 "nbformat": 4,
 "nbformat_minor": 5
}
