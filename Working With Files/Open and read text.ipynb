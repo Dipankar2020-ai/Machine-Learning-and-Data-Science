{
 "cells": [
  {
   "cell_type": "markdown",
   "id": "1699506d",
   "metadata": {},
   "source": [
    "## Introduction-> \n",
    "i).txt file\n",
    "ii).csv file"
   ]
  },
  {
   "cell_type": "markdown",
   "id": "7d679582",
   "metadata": {},
   "source": [
    "## open and read text file"
   ]
  },
  {
   "cell_type": "code",
   "execution_count": 12,
   "id": "4a5e4826",
   "metadata": {},
   "outputs": [
    {
     "name": "stdout",
     "output_type": "stream",
     "text": [
      "<class 'str'>\n"
     ]
    },
    {
     "data": {
      "text/plain": [
       "'Dipankar Kundu Dipankar Kundu Dipankar Kundu Dipankar Kundu Dipankar Kundu Dipankar Kundu Dipankar Kundu Dipankar Kundu Dipankar Kundu Dipankar KunduDipankar KunduDipankar KunduDipankar KunduDipankar KunduDipankar KunduDipankar KunduDipankar KunduDipankar KunduDipankar KunduDipankar KunduDipankar KunduDipankar KunduDipankar KunduDipankar KunduDipankar Kundu\\n'"
      ]
     },
     "execution_count": 12,
     "metadata": {},
     "output_type": "execute_result"
    }
   ],
   "source": [
    "file_obj = open('Desktop/Raju.txt', 'r')\n",
    "file_data = file_obj.read()\n",
    "print(type(file_data))\n",
    "file_data\n"
   ]
  },
  {
   "cell_type": "markdown",
   "id": "4f27fe36",
   "metadata": {},
   "source": [
    "### Read(n)-> n  means byte"
   ]
  },
  {
   "cell_type": "code",
   "execution_count": 13,
   "id": "0676748c",
   "metadata": {},
   "outputs": [
    {
     "name": "stdout",
     "output_type": "stream",
     "text": [
      "<class 'str'>\n"
     ]
    },
    {
     "data": {
      "text/plain": [
       "'Dipankar K'"
      ]
     },
     "execution_count": 13,
     "metadata": {},
     "output_type": "execute_result"
    }
   ],
   "source": [
    "file_obj = open('Desktop/Raju.txt', 'r')\n",
    "file_data = file_obj.read(10)\n",
    "print(type(file_data))\n",
    "file_data"
   ]
  },
  {
   "cell_type": "markdown",
   "id": "bd5d38ce",
   "metadata": {},
   "source": [
    "### Readline()"
   ]
  },
  {
   "cell_type": "code",
   "execution_count": 15,
   "id": "c9a96ee4",
   "metadata": {},
   "outputs": [
    {
     "name": "stdout",
     "output_type": "stream",
     "text": [
      "<class 'str'>\n"
     ]
    },
    {
     "data": {
      "text/plain": [
       "'Dipankar Kundu Dipankar Kundu Dipankar Kundu Dipankar Kundu Dipankar Kundu Dipankar Kundu Dipankar Kundu Dipankar Kundu Dipankar Kundu Dipankar KunduDipankar KunduDipankar KunduDipankar KunduDipankar KunduDipankar KunduDipankar KunduDipankar KunduDipankar KunduDipankar KunduDipankar KunduDipankar KunduDipankar KunduDipankar KunduDipankar KunduDipankar Kundu\\n'"
      ]
     },
     "execution_count": 15,
     "metadata": {},
     "output_type": "execute_result"
    }
   ],
   "source": [
    "file_obj = open('Desktop/Raju.txt', 'r')\n",
    "file_data = file_obj.readline()\n",
    "print(type(file_data))\n",
    "file_data"
   ]
  },
  {
   "cell_type": "markdown",
   "id": "b231eeac",
   "metadata": {},
   "source": [
    "### Readline(n)"
   ]
  },
  {
   "cell_type": "code",
   "execution_count": 16,
   "id": "52094463",
   "metadata": {},
   "outputs": [
    {
     "name": "stdout",
     "output_type": "stream",
     "text": [
      "<class 'str'>\n"
     ]
    },
    {
     "data": {
      "text/plain": [
       "'Dipankar Kundu Dipankar Kundu Dipankar Kundu Dipankar Kundu Dipankar Kundu Dipankar Kundu Dipankar K'"
      ]
     },
     "execution_count": 16,
     "metadata": {},
     "output_type": "execute_result"
    }
   ],
   "source": [
    "file_obj = open('Desktop/Raju.txt', 'r')\n",
    "file_data = file_obj.readline(100)\n",
    "print(type(file_data))\n",
    "file_data"
   ]
  },
  {
   "cell_type": "markdown",
   "id": "d434a3f0",
   "metadata": {},
   "source": [
    "### min(n,currentline)"
   ]
  },
  {
   "cell_type": "code",
   "execution_count": 17,
   "id": "2ff0e676",
   "metadata": {},
   "outputs": [
    {
     "name": "stdout",
     "output_type": "stream",
     "text": [
      "<class 'str'>\n"
     ]
    },
    {
     "data": {
      "text/plain": [
       "'Dipankar Kundu Dipankar Kundu Dipankar Kundu Dipankar Kundu Dipankar Kundu Dipankar Kundu Dipankar Kundu Dipankar Kundu Dipankar Kundu Dipankar KunduDipankar KunduDipankar KunduDipankar KunduDipankar KunduDipankar KunduDipankar KunduDipankar KunduDipankar KunduDipankar KunduDipankar KunduDipankar KunduDipankar KunduDipankar KunduDipankar KunduDipankar Kundu\\n'"
      ]
     },
     "execution_count": 17,
     "metadata": {},
     "output_type": "execute_result"
    }
   ],
   "source": [
    "file_obj = open('Desktop/Raju.txt', 'r')\n",
    "file_data = file_obj.readline(10000)\n",
    "print(type(file_data))\n",
    "file_data"
   ]
  }
 ],
 "metadata": {
  "kernelspec": {
   "display_name": "Python 3 (ipykernel)",
   "language": "python",
   "name": "python3"
  },
  "language_info": {
   "codemirror_mode": {
    "name": "ipython",
    "version": 3
   },
   "file_extension": ".py",
   "mimetype": "text/x-python",
   "name": "python",
   "nbconvert_exporter": "python",
   "pygments_lexer": "ipython3",
   "version": "3.9.7"
  }
 },
 "nbformat": 4,
 "nbformat_minor": 5
}
