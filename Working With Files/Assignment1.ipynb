{
 "cells": [
  {
   "cell_type": "code",
   "execution_count": 1,
   "id": "4d2c2917",
   "metadata": {},
   "outputs": [],
   "source": [
    "file_obj=open('Desktop/Codingninja.txt')"
   ]
  },
  {
   "cell_type": "code",
   "execution_count": 2,
   "id": "e83e6874",
   "metadata": {},
   "outputs": [],
   "source": [
    "file_data=file_obj.read(100)"
   ]
  },
  {
   "cell_type": "code",
   "execution_count": 3,
   "id": "c93dc04f",
   "metadata": {},
   "outputs": [
    {
     "data": {
      "text/plain": [
       "'Lorem ipsum dolor sit amet, consectetur adipiscing elit. Vivamus condimentum sagittis lacus, laoreet'"
      ]
     },
     "execution_count": 3,
     "metadata": {},
     "output_type": "execute_result"
    }
   ],
   "source": [
    "file_data"
   ]
  }
 ],
 "metadata": {
  "kernelspec": {
   "display_name": "Python 3 (ipykernel)",
   "language": "python",
   "name": "python3"
  },
  "language_info": {
   "codemirror_mode": {
    "name": "ipython",
    "version": 3
   },
   "file_extension": ".py",
   "mimetype": "text/x-python",
   "name": "python",
   "nbconvert_exporter": "python",
   "pygments_lexer": "ipython3",
   "version": "3.9.7"
  }
 },
 "nbformat": 4,
 "nbformat_minor": 5
}
