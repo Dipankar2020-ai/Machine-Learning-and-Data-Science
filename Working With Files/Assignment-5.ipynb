{
 "cells": [
  {
   "cell_type": "markdown",
   "id": "0c5647b5",
   "metadata": {},
   "source": [
    "### Print the country names from first 10 rows (in different lines)"
   ]
  },
  {
   "cell_type": "code",
   "execution_count": 1,
   "id": "dd538089",
   "metadata": {},
   "outputs": [],
   "source": [
    "import csv"
   ]
  },
  {
   "cell_type": "code",
   "execution_count": 28,
   "id": "fe973239",
   "metadata": {},
   "outputs": [
    {
     "name": "stdout",
     "output_type": "stream",
     "text": [
      "Country\n",
      "Afghanistan\n",
      "Sudan\n",
      "Democratic Republic of the Congo\n",
      "Democratic Republic of the Congo\n",
      "Turkey\n",
      "Syria\n",
      "Pakistan\n",
      "Italy\n",
      "Turkey\n"
     ]
    }
   ],
   "source": [
    "i=0\n",
    "with open('Desktop/year2017.csv') as file_obj:\n",
    "\n",
    "    file_data=csv.reader(file_obj,skipinitialspace=True)\n",
    "    \n",
    "    for row in file_data:\n",
    "        if i<10:\n",
    "            print(row[3])\n",
    "            i=i+1\n",
    "       \n",
    "   \n",
    "        "
   ]
  }
 ],
 "metadata": {
  "kernelspec": {
   "display_name": "Python 3 (ipykernel)",
   "language": "python",
   "name": "python3"
  },
  "language_info": {
   "codemirror_mode": {
    "name": "ipython",
    "version": 3
   },
   "file_extension": ".py",
   "mimetype": "text/x-python",
   "name": "python",
   "nbconvert_exporter": "python",
   "pygments_lexer": "ipython3",
   "version": "3.9.7"
  }
 },
 "nbformat": 4,
 "nbformat_minor": 5
}
