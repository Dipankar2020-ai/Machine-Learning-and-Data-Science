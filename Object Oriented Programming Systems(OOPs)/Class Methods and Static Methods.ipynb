{
 "cells": [
  {
   "cell_type": "markdown",
   "id": "3ed72f28",
   "metadata": {},
   "source": [
    "## Class Methods and Static Methods"
   ]
  },
  {
   "cell_type": "code",
   "execution_count": 3,
   "id": "b73ef5c1",
   "metadata": {},
   "outputs": [
    {
     "name": "stdout",
     "output_type": "stream",
     "text": [
      "20\n",
      "20\n"
     ]
    }
   ],
   "source": [
    "class Student:\n",
    "    __totalStudents=20\n",
    "    classTeacherName='komal'\n",
    "    def getTotalStudents(self):\n",
    "        return Student.__totalStudents\n",
    "    def __init__(self,name,age,rn=101):\n",
    "        self.__name=name\n",
    "        self.age=age\n",
    "        self.rollnumber=rn\n",
    "    def getName(self):\n",
    "        return self.__name\n",
    "    def setName(self,name):\n",
    "        if name==' ':\n",
    "            return\n",
    "        self.__name=name\n",
    "s1=Student('Mohit',20,101)\n",
    "print(s1.getTotalStudents())\n",
    "print(Student.getTotalStudents(s1))\n",
    "        "
   ]
  },
  {
   "cell_type": "markdown",
   "id": "d91bd277",
   "metadata": {},
   "source": [
    "### RightWay->Decorator->Modify the Functionality"
   ]
  },
  {
   "cell_type": "markdown",
   "id": "37cc36cb",
   "metadata": {},
   "source": [
    "Modification (class Method )"
   ]
  },
  {
   "cell_type": "code",
   "execution_count": 4,
   "id": "615d8425",
   "metadata": {},
   "outputs": [
    {
     "name": "stdout",
     "output_type": "stream",
     "text": [
      "20\n",
      "20\n"
     ]
    }
   ],
   "source": [
    "class Student:\n",
    "    __totalStudents=20\n",
    "    classTeacherName='komal'\n",
    "    @classmethod\n",
    "    def getTotalStudents(cls):\n",
    "        return Student.__totalStudents\n",
    "    def __init__(self,name,age,rn=101):\n",
    "        self.__name=name\n",
    "        self.age=age\n",
    "        self.rollnumber=rn\n",
    "    def getName(self):\n",
    "        return self.__name\n",
    "    def setName(self,name):\n",
    "        if name==' ':\n",
    "            return\n",
    "        self.__name=name\n",
    "s1=Student('Mohit',20,101)\n",
    "print(s1.getTotalStudents())\n",
    "print(Student.getTotalStudents())"
   ]
  },
  {
   "cell_type": "markdown",
   "id": "4012032a",
   "metadata": {},
   "source": [
    "### Predict the output "
   ]
  },
  {
   "cell_type": "code",
   "execution_count": 5,
   "id": "7d04c1c3",
   "metadata": {},
   "outputs": [
    {
     "name": "stdout",
     "output_type": "stream",
     "text": [
      "True\n"
     ]
    }
   ],
   "source": [
    "class Student:\n",
    "    def __init__(self,name,age):\n",
    "        self.name=name\n",
    "        self.age=age\n",
    "    def print_student_details():\n",
    "        print(self.name,end=\" \")\n",
    "        print(self.age)\n",
    "    @staticmethod\n",
    "    def isTeen(age):\n",
    "        return age>16\n",
    "a=Student.isTeen(18)\n",
    "print(a)"
   ]
  }
 ],
 "metadata": {
  "kernelspec": {
   "display_name": "Python 3 (ipykernel)",
   "language": "python",
   "name": "python3"
  },
  "language_info": {
   "codemirror_mode": {
    "name": "ipython",
    "version": 3
   },
   "file_extension": ".py",
   "mimetype": "text/x-python",
   "name": "python",
   "nbconvert_exporter": "python",
   "pygments_lexer": "ipython3",
   "version": "3.9.7"
  }
 },
 "nbformat": 4,
 "nbformat_minor": 5
}
