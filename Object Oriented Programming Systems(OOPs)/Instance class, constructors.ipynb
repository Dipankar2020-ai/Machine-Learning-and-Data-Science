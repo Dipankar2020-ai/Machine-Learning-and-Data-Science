{
 "cells": [
  {
   "cell_type": "code",
   "execution_count": 1,
   "id": "d25b0b2d",
   "metadata": {},
   "outputs": [],
   "source": [
    "class Student:\n",
    "    totalstudents=20\n",
    "    classTeacherName='komal'\n",
    "    def printHello(self):\n",
    "        print(\"Hello\")\n",
    "    def print(self,str):\n",
    "        print(str)\n",
    "    def printName(self):\n",
    "        name='raju'\n",
    "        print(self.name)\n",
    "        print(name)\n",
    "s1=Student()\n",
    "s2=Student()"
   ]
  },
  {
   "cell_type": "code",
   "execution_count": 2,
   "id": "05047383",
   "metadata": {},
   "outputs": [],
   "source": [
    "s1.name='Mohit'"
   ]
  },
  {
   "cell_type": "code",
   "execution_count": 3,
   "id": "58409b4e",
   "metadata": {},
   "outputs": [
    {
     "name": "stdout",
     "output_type": "stream",
     "text": [
      "Mohit\n",
      "raju\n"
     ]
    }
   ],
   "source": [
    "s1.printName()"
   ]
  },
  {
   "cell_type": "code",
   "execution_count": 4,
   "id": "4dba6bc5",
   "metadata": {},
   "outputs": [
    {
     "name": "stdout",
     "output_type": "stream",
     "text": [
      "Hello\n"
     ]
    }
   ],
   "source": [
    "s1.printHello()"
   ]
  },
  {
   "cell_type": "code",
   "execution_count": 5,
   "id": "7c4e1ce9",
   "metadata": {},
   "outputs": [
    {
     "name": "stdout",
     "output_type": "stream",
     "text": [
      "Hi\n"
     ]
    }
   ],
   "source": [
    "s1.print(\"Hi\")"
   ]
  },
  {
   "cell_type": "code",
   "execution_count": 6,
   "id": "f251d9f7",
   "metadata": {},
   "outputs": [
    {
     "name": "stdout",
     "output_type": "stream",
     "text": [
      "Hello\n"
     ]
    }
   ],
   "source": [
    "Student.printHello(s1)"
   ]
  },
  {
   "cell_type": "markdown",
   "id": "1b265b1e",
   "metadata": {},
   "source": [
    "### Instance method"
   ]
  },
  {
   "cell_type": "code",
   "execution_count": 19,
   "id": "d824b3b1",
   "metadata": {},
   "outputs": [],
   "source": [
    "class Student:\n",
    "    totalStudents=20\n",
    "    classTeacherName=\"komal\"\n",
    "    def printHello(self):\n",
    "        print(\"Hello\")\n",
    "    def print(self,str):\n",
    "        print(str)\n",
    "    def printName(self):\n",
    "        print(self.name)\n",
    "    def addName(self,name):\n",
    "        self.name=name\n",
    "    def test(self):\n",
    "        Student.totalStudents=25\n",
    "        print(Student.totalStudents)\n",
    "s3=Student()\n",
    "s4=Student()\n",
    "   \n",
    "    "
   ]
  },
  {
   "cell_type": "code",
   "execution_count": 20,
   "id": "5cfc314e",
   "metadata": {},
   "outputs": [
    {
     "name": "stdout",
     "output_type": "stream",
     "text": [
      "{}\n"
     ]
    }
   ],
   "source": [
    "print(s4.__dict__)"
   ]
  },
  {
   "cell_type": "code",
   "execution_count": 17,
   "id": "90d93a80",
   "metadata": {},
   "outputs": [
    {
     "name": "stdout",
     "output_type": "stream",
     "text": [
      "25\n"
     ]
    }
   ],
   "source": [
    "s4.test()"
   ]
  },
  {
   "cell_type": "code",
   "execution_count": 23,
   "id": "f4b48ca3",
   "metadata": {},
   "outputs": [],
   "source": [
    "s4.addName('subha')"
   ]
  },
  {
   "cell_type": "code",
   "execution_count": 24,
   "id": "7ffbf334",
   "metadata": {},
   "outputs": [
    {
     "name": "stdout",
     "output_type": "stream",
     "text": [
      "subha\n"
     ]
    }
   ],
   "source": [
    "s4.printName()"
   ]
  },
  {
   "cell_type": "markdown",
   "id": "5679822a",
   "metadata": {},
   "source": [
    "### Predict the output "
   ]
  },
  {
   "cell_type": "code",
   "execution_count": 27,
   "id": "183bc362",
   "metadata": {},
   "outputs": [
    {
     "name": "stdout",
     "output_type": "stream",
     "text": [
      "1 2 2 "
     ]
    }
   ],
   "source": [
    "class sampleclass:\n",
    "    count=0\n",
    "    def increase(self):\n",
    "        sampleclass.count+=1\n",
    "s1=sampleclass()\n",
    "s1.increase()\n",
    "print(s1.count,end=\" \")\n",
    "s2=sampleclass()\n",
    "s2.increase()\n",
    "print(s2.count,end=\" \")\n",
    "print(sampleclass.count,end=\" \")"
   ]
  },
  {
   "cell_type": "markdown",
   "id": "9054ef18",
   "metadata": {},
   "source": [
    "### Constructors ###"
   ]
  },
  {
   "cell_type": "code",
   "execution_count": 28,
   "id": "9f3caa8d",
   "metadata": {},
   "outputs": [
    {
     "name": "stdout",
     "output_type": "stream",
     "text": [
      "constructor inside\n",
      "constructor inside\n"
     ]
    }
   ],
   "source": [
    "class Student:\n",
    "    totalstudents=20\n",
    "    classteachername=\"kamal\"\n",
    "    def __init__(self):\n",
    "        print(\"constructor inside\")\n",
    "s1=Student()\n",
    "s2=Student()"
   ]
  },
  {
   "cell_type": "code",
   "execution_count": 29,
   "id": "d17b14af",
   "metadata": {},
   "outputs": [],
   "source": [
    "class Student:\n",
    "    totalstudents=20\n",
    "    classteachername=\"kamal\"\n",
    "    def __init__(self):\n",
    "        self.name='Mohit'\n",
    "        self.age=20\n",
    "        self.rollnumber=101\n",
    "s1=Student()\n",
    "s2=Student()"
   ]
  },
  {
   "cell_type": "code",
   "execution_count": 30,
   "id": "c08bbf86",
   "metadata": {},
   "outputs": [
    {
     "name": "stdout",
     "output_type": "stream",
     "text": [
      "{'name': 'Mohit', 'age': 20, 'rollnumber': 101}\n"
     ]
    }
   ],
   "source": [
    "print(s1.__dict__)"
   ]
  },
  {
   "cell_type": "code",
   "execution_count": 31,
   "id": "3b8491dc",
   "metadata": {},
   "outputs": [
    {
     "name": "stdout",
     "output_type": "stream",
     "text": [
      "{'name': 'Mohit', 'age': 20, 'rollnumber': 101}\n"
     ]
    }
   ],
   "source": [
    "print(s2.__dict__)"
   ]
  },
  {
   "cell_type": "code",
   "execution_count": 33,
   "id": "e05483c5",
   "metadata": {},
   "outputs": [],
   "source": [
    "class Student:\n",
    "    totalstudents=20\n",
    "    classteachername=\"kamal\"\n",
    "    def __init__(self,name,age,rollnumber):\n",
    "        self.name=name\n",
    "        self.age=age\n",
    "        self.rollnumber=rollnumber\n",
    "s1=Student('Raju',22,1)\n",
    "s2=Student(\"subha\",28,12)"
   ]
  },
  {
   "cell_type": "code",
   "execution_count": 34,
   "id": "0e390f83",
   "metadata": {},
   "outputs": [
    {
     "name": "stdout",
     "output_type": "stream",
     "text": [
      "{'name': 'Raju', 'age': 22, 'rollnumber': 1}\n"
     ]
    }
   ],
   "source": [
    "print(s1.__dict__)"
   ]
  },
  {
   "cell_type": "code",
   "execution_count": 35,
   "id": "6bfa2ef3",
   "metadata": {},
   "outputs": [
    {
     "name": "stdout",
     "output_type": "stream",
     "text": [
      "{'name': 'subha', 'age': 28, 'rollnumber': 12}\n"
     ]
    }
   ],
   "source": [
    "print(s2.__dict__)"
   ]
  },
  {
   "cell_type": "markdown",
   "id": "1cd2f3bf",
   "metadata": {},
   "source": [
    "### Predict the output"
   ]
  },
  {
   "cell_type": "code",
   "execution_count": 38,
   "id": "3400607e",
   "metadata": {},
   "outputs": [
    {
     "name": "stdout",
     "output_type": "stream",
     "text": [
      "7\n"
     ]
    }
   ],
   "source": [
    "class change:\n",
    "    def __init__(self,x,y,z):\n",
    "        self.a=x+y+z\n",
    "x=change(1,2,3)\n",
    "y=getattr(x,'a')\n",
    "setattr(x,'a',y+1)\n",
    "print(x.a)"
   ]
  },
  {
   "cell_type": "code",
   "execution_count": 39,
   "id": "f3df30e4",
   "metadata": {},
   "outputs": [
    {
     "ename": "TypeError",
     "evalue": "__init__() missing 2 required positional arguments: 'name' and 'age'",
     "output_type": "error",
     "traceback": [
      "\u001b[1;31m---------------------------------------------------------------------------\u001b[0m",
      "\u001b[1;31mTypeError\u001b[0m                                 Traceback (most recent call last)",
      "\u001b[1;32m~\\AppData\\Local\\Temp/ipykernel_17724/1634339082.py\u001b[0m in \u001b[0;36m<module>\u001b[1;34m\u001b[0m\n\u001b[0;32m      6\u001b[0m         \u001b[0mprint\u001b[0m\u001b[1;33m(\u001b[0m\u001b[0mself\u001b[0m\u001b[1;33m.\u001b[0m\u001b[0mname\u001b[0m\u001b[1;33m,\u001b[0m\u001b[0mend\u001b[0m\u001b[1;33m=\u001b[0m\u001b[1;34m\" \"\u001b[0m\u001b[1;33m)\u001b[0m\u001b[1;33m\u001b[0m\u001b[1;33m\u001b[0m\u001b[0m\n\u001b[0;32m      7\u001b[0m         \u001b[0mprint\u001b[0m\u001b[1;33m(\u001b[0m\u001b[0mself\u001b[0m\u001b[1;33m.\u001b[0m\u001b[0mage\u001b[0m\u001b[1;33m)\u001b[0m\u001b[1;33m\u001b[0m\u001b[1;33m\u001b[0m\u001b[0m\n\u001b[1;32m----> 8\u001b[1;33m \u001b[0ms\u001b[0m\u001b[1;33m=\u001b[0m\u001b[0mStudent\u001b[0m\u001b[1;33m(\u001b[0m\u001b[1;33m)\u001b[0m\u001b[1;33m\u001b[0m\u001b[1;33m\u001b[0m\u001b[0m\n\u001b[0m\u001b[0;32m      9\u001b[0m \u001b[0ms\u001b[0m\u001b[1;33m.\u001b[0m\u001b[0mprint_student_details\u001b[0m\u001b[1;33m(\u001b[0m\u001b[1;33m)\u001b[0m\u001b[1;33m\u001b[0m\u001b[1;33m\u001b[0m\u001b[0m\n",
      "\u001b[1;31mTypeError\u001b[0m: __init__() missing 2 required positional arguments: 'name' and 'age'"
     ]
    }
   ],
   "source": [
    "class Student:\n",
    "    def __init__(self,name,age):\n",
    "        self.name=\"Rohan\"\n",
    "        self.age=23\n",
    "    def print_student_details():\n",
    "        print(self.name,end=\" \")\n",
    "        print(self.age)\n",
    "s=Student()\n",
    "s.print_student_details()"
   ]
  },
  {
   "cell_type": "code",
   "execution_count": 42,
   "id": "bc0d092d",
   "metadata": {},
   "outputs": [
    {
     "ename": "TypeError",
     "evalue": "print_student_details() takes 0 positional arguments but 1 was given",
     "output_type": "error",
     "traceback": [
      "\u001b[1;31m---------------------------------------------------------------------------\u001b[0m",
      "\u001b[1;31mTypeError\u001b[0m                                 Traceback (most recent call last)",
      "\u001b[1;32m~\\AppData\\Local\\Temp/ipykernel_17724/4101869428.py\u001b[0m in \u001b[0;36m<module>\u001b[1;34m\u001b[0m\n\u001b[0;32m      7\u001b[0m         \u001b[0mprint\u001b[0m\u001b[1;33m(\u001b[0m\u001b[0mself\u001b[0m\u001b[1;33m.\u001b[0m\u001b[0mage\u001b[0m\u001b[1;33m)\u001b[0m\u001b[1;33m\u001b[0m\u001b[1;33m\u001b[0m\u001b[0m\n\u001b[0;32m      8\u001b[0m \u001b[0ms\u001b[0m\u001b[1;33m=\u001b[0m\u001b[0mStudent\u001b[0m\u001b[1;33m(\u001b[0m\u001b[1;34m\"raju\"\u001b[0m\u001b[1;33m,\u001b[0m\u001b[1;36m22\u001b[0m\u001b[1;33m)\u001b[0m\u001b[1;33m\u001b[0m\u001b[1;33m\u001b[0m\u001b[0m\n\u001b[1;32m----> 9\u001b[1;33m \u001b[0ms\u001b[0m\u001b[1;33m.\u001b[0m\u001b[0mprint_student_details\u001b[0m\u001b[1;33m(\u001b[0m\u001b[1;33m)\u001b[0m\u001b[1;33m\u001b[0m\u001b[1;33m\u001b[0m\u001b[0m\n\u001b[0m",
      "\u001b[1;31mTypeError\u001b[0m: print_student_details() takes 0 positional arguments but 1 was given"
     ]
    }
   ],
   "source": [
    "class Student:\n",
    "    def __init__(self,name,age):\n",
    "        self.name=name\n",
    "        self.age=age\n",
    "    def print_student_details():\n",
    "        print(self.name,end=\" \")\n",
    "        print(self.age)\n",
    "s=Student(\"raju\",22)\n",
    "s.print_student_details()"
   ]
  },
  {
   "cell_type": "code",
   "execution_count": 43,
   "id": "193bd241",
   "metadata": {},
   "outputs": [
    {
     "name": "stdout",
     "output_type": "stream",
     "text": [
      "raju 22\n"
     ]
    }
   ],
   "source": [
    "class Student:\n",
    "    def __init__(self,name,age):\n",
    "        self.name=name\n",
    "        self.age=age\n",
    "    def print_student_details(self):\n",
    "        print(self.name,end=\" \")\n",
    "        print(self.age)\n",
    "s=Student(\"raju\",22)\n",
    "s.print_student_details()"
   ]
  }
 ],
 "metadata": {
  "kernelspec": {
   "display_name": "Python 3 (ipykernel)",
   "language": "python",
   "name": "python3"
  },
  "language_info": {
   "codemirror_mode": {
    "name": "ipython",
    "version": 3
   },
   "file_extension": ".py",
   "mimetype": "text/x-python",
   "name": "python",
   "nbconvert_exporter": "python",
   "pygments_lexer": "ipython3",
   "version": "3.9.7"
  }
 },
 "nbformat": 4,
 "nbformat_minor": 5
}
