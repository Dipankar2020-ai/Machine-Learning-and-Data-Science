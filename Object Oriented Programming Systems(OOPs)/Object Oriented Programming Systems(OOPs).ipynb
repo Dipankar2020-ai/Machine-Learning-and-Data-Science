{
 "cells": [
  {
   "cell_type": "markdown",
   "id": "b2d199e3",
   "metadata": {},
   "source": [
    "Which of the following Represents A Distirectly Identifiable Identity in Real Word"
   ]
  },
  {
   "cell_type": "markdown",
   "id": "4d8c1429",
   "metadata": {},
   "source": [
    "=>An object"
   ]
  },
  {
   "cell_type": "markdown",
   "id": "77105215",
   "metadata": {},
   "source": [
    "In python,  a class is a  blue print for a concrete object"
   ]
  },
  {
   "cell_type": "markdown",
   "id": "c39194f5",
   "metadata": {},
   "source": [
    "## Create class and object ###"
   ]
  },
  {
   "cell_type": "code",
   "execution_count": 1,
   "id": "5e55af23",
   "metadata": {},
   "outputs": [
    {
     "name": "stdout",
     "output_type": "stream",
     "text": [
      "<class 'int'>\n"
     ]
    }
   ],
   "source": [
    "a=10\n",
    "print(type(a))"
   ]
  },
  {
   "cell_type": "code",
   "execution_count": 2,
   "id": "8c22a4e4",
   "metadata": {},
   "outputs": [
    {
     "name": "stdout",
     "output_type": "stream",
     "text": [
      "<class 'list'>\n"
     ]
    }
   ],
   "source": [
    "l=[1,2,3]\n",
    "print(type(l))"
   ]
  },
  {
   "cell_type": "code",
   "execution_count": 3,
   "id": "3aa605a1",
   "metadata": {},
   "outputs": [
    {
     "name": "stdout",
     "output_type": "stream",
     "text": [
      "{}\n",
      "{}\n"
     ]
    }
   ],
   "source": [
    "class Student:\n",
    "    pass\n",
    "s1=Student()\n",
    "s2=Student()\n",
    "print(s1.__dict__)\n",
    "print(s2.__dict__)"
   ]
  },
  {
   "cell_type": "markdown",
   "id": "b68dea64",
   "metadata": {},
   "source": [
    "### Attribute->i)Instance attribute (Name,age) ii)class attribute(Totalstudents) ###"
   ]
  },
  {
   "cell_type": "markdown",
   "id": "555e33b7",
   "metadata": {},
   "source": [
    "which operator in python is used to access and methods of an object"
   ]
  },
  {
   "cell_type": "markdown",
   "id": "0c9f94c7",
   "metadata": {},
   "source": [
    "=> dot operator"
   ]
  },
  {
   "cell_type": "markdown",
   "id": "3a944198",
   "metadata": {},
   "source": [
    "## Instance attribute ###"
   ]
  },
  {
   "cell_type": "code",
   "execution_count": 6,
   "id": "402f0fd1",
   "metadata": {},
   "outputs": [
    {
     "name": "stdout",
     "output_type": "stream",
     "text": [
      "{'name': 'Mohit', 'age': 20}\n",
      "{'rollno': 101}\n",
      "{'age': 16}\n"
     ]
    }
   ],
   "source": [
    "class Student:\n",
    "    pass\n",
    "s1=Student()\n",
    "s2=Student()\n",
    "s3=Student()\n",
    "s1.name=\"Mohit\"\n",
    "s1.age=20\n",
    "s2.rollno=101\n",
    "s3.age=16\n",
    "print(s1.__dict__)\n",
    "print(s2.__dict__)\n",
    "print(s3.__dict__)"
   ]
  },
  {
   "cell_type": "markdown",
   "id": "e00439b3",
   "metadata": {},
   "source": [
    "## hasattr()"
   ]
  },
  {
   "cell_type": "code",
   "execution_count": 8,
   "id": "04f37947",
   "metadata": {},
   "outputs": [
    {
     "name": "stdout",
     "output_type": "stream",
     "text": [
      "True\n"
     ]
    }
   ],
   "source": [
    "print(hasattr(s1,'name'))"
   ]
  },
  {
   "cell_type": "markdown",
   "id": "770c59d8",
   "metadata": {},
   "source": [
    "print(hasattr(s2,'name'))"
   ]
  },
  {
   "cell_type": "markdown",
   "id": "1ecc95d1",
   "metadata": {},
   "source": [
    "## getattr()"
   ]
  },
  {
   "cell_type": "code",
   "execution_count": 11,
   "id": "827fd847",
   "metadata": {},
   "outputs": [
    {
     "name": "stdout",
     "output_type": "stream",
     "text": [
      "Mohit\n"
     ]
    }
   ],
   "source": [
    "print(getattr(s1,'name'))"
   ]
  },
  {
   "cell_type": "code",
   "execution_count": 13,
   "id": "00945a3b",
   "metadata": {},
   "outputs": [
    {
     "name": "stdout",
     "output_type": "stream",
     "text": [
      "101\n"
     ]
    }
   ],
   "source": [
    "print(getattr(s2,'rollno'))"
   ]
  },
  {
   "cell_type": "code",
   "execution_count": 14,
   "id": "e9e651b9",
   "metadata": {},
   "outputs": [
    {
     "ename": "AttributeError",
     "evalue": "'Student' object has no attribute 'rollno'",
     "output_type": "error",
     "traceback": [
      "\u001b[1;31m---------------------------------------------------------------------------\u001b[0m",
      "\u001b[1;31mAttributeError\u001b[0m                            Traceback (most recent call last)",
      "\u001b[1;32m~\\AppData\\Local\\Temp/ipykernel_14272/3379572894.py\u001b[0m in \u001b[0;36m<module>\u001b[1;34m\u001b[0m\n\u001b[1;32m----> 1\u001b[1;33m \u001b[0mprint\u001b[0m\u001b[1;33m(\u001b[0m\u001b[0mgetattr\u001b[0m\u001b[1;33m(\u001b[0m\u001b[0ms3\u001b[0m\u001b[1;33m,\u001b[0m\u001b[1;34m'rollno'\u001b[0m\u001b[1;33m)\u001b[0m\u001b[1;33m)\u001b[0m\u001b[1;33m\u001b[0m\u001b[1;33m\u001b[0m\u001b[0m\n\u001b[0m",
      "\u001b[1;31mAttributeError\u001b[0m: 'Student' object has no attribute 'rollno'"
     ]
    }
   ],
   "source": [
    "print(getattr(s3,'rollno'))"
   ]
  },
  {
   "cell_type": "markdown",
   "id": "6c987ad2",
   "metadata": {},
   "source": [
    "## delattr()"
   ]
  },
  {
   "cell_type": "code",
   "execution_count": 16,
   "id": "23be88e4",
   "metadata": {},
   "outputs": [],
   "source": [
    "delattr(s1,'name')"
   ]
  },
  {
   "cell_type": "code",
   "execution_count": 17,
   "id": "30b3d004",
   "metadata": {},
   "outputs": [
    {
     "name": "stdout",
     "output_type": "stream",
     "text": [
      "{'age': 20}\n"
     ]
    }
   ],
   "source": [
    "print(s1.__dict__)"
   ]
  },
  {
   "cell_type": "markdown",
   "id": "5272fe16",
   "metadata": {},
   "source": [
    "### Instance attribute ###"
   ]
  },
  {
   "cell_type": "code",
   "execution_count": 18,
   "id": "6676a713",
   "metadata": {},
   "outputs": [
    {
     "name": "stdout",
     "output_type": "stream",
     "text": [
      "{'age': 23, 'name': 'John Doe', 'gender': 'male'}\n"
     ]
    }
   ],
   "source": [
    "class Sampleclass:\n",
    "    pass\n",
    "s1=Sampleclass()\n",
    "setattr(s1,'age',23)\n",
    "setattr(s1,'name','John Doe')\n",
    "s1.gender='male'\n",
    "print(s1.__dict__)"
   ]
  },
  {
   "cell_type": "markdown",
   "id": "9a42c7f9",
   "metadata": {},
   "source": [
    "### class attribute ##"
   ]
  },
  {
   "cell_type": "code",
   "execution_count": 19,
   "id": "73fc42f6",
   "metadata": {},
   "outputs": [
    {
     "name": "stdout",
     "output_type": "stream",
     "text": [
      "{'__module__': '__main__', 'totalstudents': 20, 'classteachername': 'komal', '__dict__': <attribute '__dict__' of 'Student' objects>, '__weakref__': <attribute '__weakref__' of 'Student' objects>, '__doc__': None}\n",
      "{}\n",
      "{}\n"
     ]
    }
   ],
   "source": [
    "class Student:\n",
    "    totalstudents=20\n",
    "    classteachername='komal'\n",
    "s1=Student()\n",
    "s2=Student()\n",
    "print(Student.__dict__)\n",
    "print(s1.__dict__)\n",
    "print(s2.__dict__)\n"
   ]
  },
  {
   "cell_type": "code",
   "execution_count": 20,
   "id": "82b5ffcd",
   "metadata": {},
   "outputs": [
    {
     "name": "stdout",
     "output_type": "stream",
     "text": [
      "20\n"
     ]
    }
   ],
   "source": [
    "print(Student.totalstudents)"
   ]
  },
  {
   "cell_type": "code",
   "execution_count": 21,
   "id": "142a15a2",
   "metadata": {},
   "outputs": [
    {
     "name": "stdout",
     "output_type": "stream",
     "text": [
      "20\n"
     ]
    }
   ],
   "source": [
    "print(s1.totalstudents)"
   ]
  },
  {
   "cell_type": "code",
   "execution_count": 22,
   "id": "898f9882",
   "metadata": {},
   "outputs": [
    {
     "name": "stdout",
     "output_type": "stream",
     "text": [
      "20\n"
     ]
    }
   ],
   "source": [
    "print(s2.totalstudents)"
   ]
  },
  {
   "cell_type": "code",
   "execution_count": 23,
   "id": "5699ed87",
   "metadata": {},
   "outputs": [
    {
     "name": "stdout",
     "output_type": "stream",
     "text": [
      "{}\n",
      "{}\n"
     ]
    }
   ],
   "source": [
    "print(s1.__dict__)\n",
    "print(s2.__dict__)"
   ]
  },
  {
   "cell_type": "code",
   "execution_count": 24,
   "id": "c032d35c",
   "metadata": {},
   "outputs": [
    {
     "name": "stdout",
     "output_type": "stream",
     "text": [
      "30\n",
      "30\n",
      "30\n"
     ]
    }
   ],
   "source": [
    "Student.totalstudents=30\n",
    "print(Student.totalstudents)\n",
    "print(s1.totalstudents)\n",
    "print(s2.totalstudents)"
   ]
  },
  {
   "cell_type": "code",
   "execution_count": 25,
   "id": "ba0615ac",
   "metadata": {},
   "outputs": [
    {
     "name": "stdout",
     "output_type": "stream",
     "text": [
      "30\n",
      "40\n",
      "30\n"
     ]
    }
   ],
   "source": [
    "s1.totalstudents=40\n",
    "print(Student.totalstudents)\n",
    "print(s1.totalstudents)\n",
    "print(s2.totalstudents)\n"
   ]
  },
  {
   "cell_type": "code",
   "execution_count": 26,
   "id": "6466d673",
   "metadata": {},
   "outputs": [
    {
     "name": "stdout",
     "output_type": "stream",
     "text": [
      "{'totalstudents': 40}\n",
      "{}\n"
     ]
    }
   ],
   "source": [
    "print(s1.__dict__)\n",
    "print(s2.__dict__)"
   ]
  },
  {
   "cell_type": "markdown",
   "id": "2b952e7c",
   "metadata": {},
   "source": [
    "## Predict the output ##"
   ]
  },
  {
   "cell_type": "code",
   "execution_count": 32,
   "id": "f856398a",
   "metadata": {},
   "outputs": [
    {
     "name": "stdout",
     "output_type": "stream",
     "text": [
      "20\n",
      "komal\n"
     ]
    }
   ],
   "source": [
    "class Student:\n",
    "    age=20\n",
    "    name='komal'\n",
    "s1=Student()\n",
    "s2=Student()\n",
    "print(s1.age)\n",
    "print(s2.name)"
   ]
  },
  {
   "cell_type": "code",
   "execution_count": 34,
   "id": "eb98b6aa",
   "metadata": {},
   "outputs": [
    {
     "name": "stdout",
     "output_type": "stream",
     "text": [
      "58\n",
      "60\n"
     ]
    }
   ],
   "source": [
    "class Student:\n",
    "    pp=50\n",
    "s1=Student()\n",
    "s1.pp=58\n",
    "s2=Student()\n",
    "s2.pp=60\n",
    "print(s1.pp)\n",
    "print(s2.pp)"
   ]
  }
 ],
 "metadata": {
  "kernelspec": {
   "display_name": "Python 3 (ipykernel)",
   "language": "python",
   "name": "python3"
  },
  "language_info": {
   "codemirror_mode": {
    "name": "ipython",
    "version": 3
   },
   "file_extension": ".py",
   "mimetype": "text/x-python",
   "name": "python",
   "nbconvert_exporter": "python",
   "pygments_lexer": "ipython3",
   "version": "3.9.7"
  }
 },
 "nbformat": 4,
 "nbformat_minor": 5
}
