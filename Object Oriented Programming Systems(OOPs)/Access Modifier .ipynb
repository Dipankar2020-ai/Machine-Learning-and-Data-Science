{
 "cells": [
  {
   "cell_type": "markdown",
   "id": "68b8526d",
   "metadata": {},
   "source": [
    "### Access Modifier -> i)Private ii)Public and iii)Protected"
   ]
  },
  {
   "cell_type": "code",
   "execution_count": 1,
   "id": "87f58c28",
   "metadata": {},
   "outputs": [
    {
     "name": "stdout",
     "output_type": "stream",
     "text": [
      "20 101\n"
     ]
    }
   ],
   "source": [
    "class Student:\n",
    "    totalstudents=20\n",
    "    classTeacherName='Komal'\n",
    "    def __init__(self,name,age,rn=101):\n",
    "        self.__name=name  # for private use __.name\n",
    "        self.age=age\n",
    "        self.rollno=rn\n",
    "    def print(self,str):\n",
    "        print(str)\n",
    "    def printName(self):\n",
    "        print(self.name)\n",
    "s1=Student('Mohit',20,101)\n",
    "print(s1.age,s1.rollno)\n",
    "    "
   ]
  },
  {
   "cell_type": "code",
   "execution_count": 3,
   "id": "a314f3a2",
   "metadata": {},
   "outputs": [
    {
     "ename": "AttributeError",
     "evalue": "'Student' object has no attribute 'name'",
     "output_type": "error",
     "traceback": [
      "\u001b[1;31m---------------------------------------------------------------------------\u001b[0m",
      "\u001b[1;31mAttributeError\u001b[0m                            Traceback (most recent call last)",
      "\u001b[1;32m~\\AppData\\Local\\Temp/ipykernel_10576/3315848947.py\u001b[0m in \u001b[0;36m<module>\u001b[1;34m\u001b[0m\n\u001b[1;32m----> 1\u001b[1;33m \u001b[0mprint\u001b[0m\u001b[1;33m(\u001b[0m\u001b[0ms1\u001b[0m\u001b[1;33m.\u001b[0m\u001b[0mname\u001b[0m\u001b[1;33m)\u001b[0m \u001b[1;31m## Error comes for private method\u001b[0m\u001b[1;33m\u001b[0m\u001b[1;33m\u001b[0m\u001b[0m\n\u001b[0m",
      "\u001b[1;31mAttributeError\u001b[0m: 'Student' object has no attribute 'name'"
     ]
    }
   ],
   "source": [
    "print(s1.name) ## Error comes for private method"
   ]
  },
  {
   "cell_type": "markdown",
   "id": "4e6f7697",
   "metadata": {},
   "source": [
    "### Purpose of private method-i)abstraction and security"
   ]
  },
  {
   "cell_type": "markdown",
   "id": "7551e760",
   "metadata": {},
   "source": [
    "How to use private property outside->"
   ]
  },
  {
   "cell_type": "code",
   "execution_count": 5,
   "id": "bbdeb185",
   "metadata": {},
   "outputs": [
    {
     "name": "stdout",
     "output_type": "stream",
     "text": [
      "20 101\n"
     ]
    }
   ],
   "source": [
    "class Student:\n",
    "    totalstudents=20\n",
    "    classTeacherName='Komal'\n",
    "    def __init__(self,name,age,rn=101):\n",
    "        self.__name=name  # for private use __.name\n",
    "        self.age=age\n",
    "        self.rollno=rn\n",
    "    def getName(self):\n",
    "        return self.__name\n",
    "    \n",
    "s1=Student('Mohit',20,101)\n",
    "print(s1.age,s1.rollno)\n"
   ]
  },
  {
   "cell_type": "code",
   "execution_count": 7,
   "id": "e374d4ca",
   "metadata": {},
   "outputs": [
    {
     "name": "stdout",
     "output_type": "stream",
     "text": [
      "Mohit\n"
     ]
    }
   ],
   "source": [
    "print(s1.getName())"
   ]
  },
  {
   "cell_type": "markdown",
   "id": "6832e87f",
   "metadata": {},
   "source": [
    "### Modification"
   ]
  },
  {
   "cell_type": "code",
   "execution_count": 8,
   "id": "5a61baf2",
   "metadata": {},
   "outputs": [
    {
     "name": "stdout",
     "output_type": "stream",
     "text": [
      "20 101\n"
     ]
    }
   ],
   "source": [
    "class Student:\n",
    "    totalstudents=20\n",
    "    classTeacherName='Komal'\n",
    "    def __init__(self,name,age,rn=101):\n",
    "        self.__name=name  # for private use __.name\n",
    "        self.age=age\n",
    "        self.rollno=rn\n",
    "    def getName(self):\n",
    "        return self.__name\n",
    "    def setName(self,name):\n",
    "        self.__name=name\n",
    "    \n",
    "s1=Student('Mohit',20,101)\n",
    "print(s1.age,s1.rollno)"
   ]
  },
  {
   "cell_type": "code",
   "execution_count": 9,
   "id": "f1ab0eb8",
   "metadata": {},
   "outputs": [
    {
     "data": {
      "text/plain": [
       "'Mohit'"
      ]
     },
     "execution_count": 9,
     "metadata": {},
     "output_type": "execute_result"
    }
   ],
   "source": [
    "s1.getName()"
   ]
  },
  {
   "cell_type": "code",
   "execution_count": 10,
   "id": "7f663d12",
   "metadata": {},
   "outputs": [],
   "source": [
    "s1.setName('raju')"
   ]
  },
  {
   "cell_type": "code",
   "execution_count": 11,
   "id": "3f0120c9",
   "metadata": {},
   "outputs": [
    {
     "data": {
      "text/plain": [
       "'raju'"
      ]
     },
     "execution_count": 11,
     "metadata": {},
     "output_type": "execute_result"
    }
   ],
   "source": [
    "s1.getName()"
   ]
  },
  {
   "cell_type": "markdown",
   "id": "44f1dab6",
   "metadata": {},
   "source": [
    "### Modification "
   ]
  },
  {
   "cell_type": "code",
   "execution_count": 18,
   "id": "1da048c8",
   "metadata": {},
   "outputs": [
    {
     "name": "stdout",
     "output_type": "stream",
     "text": [
      "20 101\n"
     ]
    }
   ],
   "source": [
    "class Student:\n",
    "    totalstudents=20\n",
    "    classTeacherName='Komal'\n",
    "    def __init__(self,name,age,password,rn=101):\n",
    "        self.__name=name  # for private use __.name\n",
    "        self.age=age\n",
    "        self.password=password\n",
    "        self.rollno=rn\n",
    "        \n",
    "    def getName(self):\n",
    "        return self.__name\n",
    "    def setName(self,name,password):\n",
    "        if self.password!=password:\n",
    "            return\n",
    "        if name==' ':\n",
    "            return\n",
    "        \n",
    "    \n",
    "        self.__name=name\n",
    "    \n",
    "s1=Student('Mohit',20,123,101)\n",
    "print(s1.age,s1.rollno)"
   ]
  },
  {
   "cell_type": "code",
   "execution_count": 19,
   "id": "1c6c37e8",
   "metadata": {},
   "outputs": [
    {
     "data": {
      "text/plain": [
       "'Mohit'"
      ]
     },
     "execution_count": 19,
     "metadata": {},
     "output_type": "execute_result"
    }
   ],
   "source": [
    "s1.getName()"
   ]
  },
  {
   "cell_type": "code",
   "execution_count": 21,
   "id": "a137c3b2",
   "metadata": {},
   "outputs": [],
   "source": [
    "s1.setName('Raju',123)"
   ]
  },
  {
   "cell_type": "code",
   "execution_count": 22,
   "id": "14f0f5f1",
   "metadata": {},
   "outputs": [
    {
     "name": "stdout",
     "output_type": "stream",
     "text": [
      "Raju\n"
     ]
    }
   ],
   "source": [
    "print(s1.getName())"
   ]
  },
  {
   "cell_type": "markdown",
   "id": "10e6e5ef",
   "metadata": {},
   "source": [
    "## Predict the output "
   ]
  },
  {
   "cell_type": "code",
   "execution_count": 23,
   "id": "d27ac0ee",
   "metadata": {},
   "outputs": [
    {
     "name": "stdout",
     "output_type": "stream",
     "text": [
      "1\n"
     ]
    }
   ],
   "source": [
    "class A:\n",
    "    def __init__(self):\n",
    "        self.x=1\n",
    "        self.__y=1\n",
    "    def getY(self):\n",
    "        return self.__y\n",
    "a=A()\n",
    "a.__y=45\n",
    "print(a.getY())"
   ]
  },
  {
   "cell_type": "code",
   "execution_count": 27,
   "id": "f573b02a",
   "metadata": {},
   "outputs": [
    {
     "ename": "AttributeError",
     "evalue": "'Student' object has no attribute 'name'",
     "output_type": "error",
     "traceback": [
      "\u001b[1;31m---------------------------------------------------------------------------\u001b[0m",
      "\u001b[1;31mAttributeError\u001b[0m                            Traceback (most recent call last)",
      "\u001b[1;32m~\\AppData\\Local\\Temp/ipykernel_10576/448450679.py\u001b[0m in \u001b[0;36m<module>\u001b[1;34m\u001b[0m\n\u001b[0;32m      6\u001b[0m         \u001b[0mprint\u001b[0m\u001b[1;33m(\u001b[0m\u001b[0mself\u001b[0m\u001b[1;33m.\u001b[0m\u001b[0m__name\u001b[0m\u001b[1;33m,\u001b[0m\u001b[0mend\u001b[0m\u001b[1;33m=\u001b[0m\u001b[1;34m\" \"\u001b[0m\u001b[1;33m)\u001b[0m\u001b[1;33m\u001b[0m\u001b[1;33m\u001b[0m\u001b[0m\n\u001b[0;32m      7\u001b[0m \u001b[0ms\u001b[0m\u001b[1;33m=\u001b[0m\u001b[0mStudent\u001b[0m\u001b[1;33m(\u001b[0m\u001b[1;34m\"Rohan\"\u001b[0m\u001b[1;33m,\u001b[0m\u001b[1;36m20\u001b[0m\u001b[1;33m)\u001b[0m\u001b[1;33m\u001b[0m\u001b[1;33m\u001b[0m\u001b[0m\n\u001b[1;32m----> 8\u001b[1;33m \u001b[0mprint\u001b[0m\u001b[1;33m(\u001b[0m\u001b[0ms\u001b[0m\u001b[1;33m.\u001b[0m\u001b[0mname\u001b[0m\u001b[1;33m)\u001b[0m\u001b[1;33m\u001b[0m\u001b[1;33m\u001b[0m\u001b[0m\n\u001b[0m\u001b[0;32m      9\u001b[0m \u001b[1;33m\u001b[0m\u001b[0m\n",
      "\u001b[1;31mAttributeError\u001b[0m: 'Student' object has no attribute 'name'"
     ]
    }
   ],
   "source": [
    "class Student:\n",
    "    def __init__(self,name,age):\n",
    "        self.__name=name\n",
    "        self.age=age\n",
    "    def print_student_details():\n",
    "        print(self.__name,end=\" \")\n",
    "s=Student(\"Rohan\",20)\n",
    "print(s.name)\n",
    "    "
   ]
  },
  {
   "cell_type": "code",
   "execution_count": 30,
   "id": "bbdcf200",
   "metadata": {},
   "outputs": [
    {
     "name": "stdout",
     "output_type": "stream",
     "text": [
      "Rohan 20\n"
     ]
    }
   ],
   "source": [
    "class Student:\n",
    "    def __init__(self,name,age):\n",
    "        self.__name=name\n",
    "        self.age=age\n",
    "    def print_student_details(self):\n",
    "        print(self.__name,end=\" \")\n",
    "        print(self.age)\n",
    "s=Student(\"Rohan\",20)\n",
    "s.print_student_details()"
   ]
  }
 ],
 "metadata": {
  "kernelspec": {
   "display_name": "Python 3 (ipykernel)",
   "language": "python",
   "name": "python3"
  },
  "language_info": {
   "codemirror_mode": {
    "name": "ipython",
    "version": 3
   },
   "file_extension": ".py",
   "mimetype": "text/x-python",
   "name": "python",
   "nbconvert_exporter": "python",
   "pygments_lexer": "ipython3",
   "version": "3.9.7"
  }
 },
 "nbformat": 4,
 "nbformat_minor": 5
}
