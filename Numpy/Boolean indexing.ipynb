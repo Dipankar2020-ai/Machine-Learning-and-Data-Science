{
 "cells": [
  {
   "cell_type": "markdown",
   "id": "56ed7b0c",
   "metadata": {},
   "source": [
    "## Boolean Indexing"
   ]
  },
  {
   "cell_type": "code",
   "execution_count": 1,
   "id": "7fcdf5a9",
   "metadata": {},
   "outputs": [
    {
     "name": "stdout",
     "output_type": "stream",
     "text": [
      "['t' 'b' 'r' 'd' 'e' 'f' 'z' 'a']\n",
      "[ 9  1  7 13 14 16  2  5]\n"
     ]
    }
   ],
   "source": [
    "import numpy as np\n",
    "a=np.array(['t','b','r','d','e','f','z','a'])\n",
    "b=np.random.randint(1,20,8)\n",
    "print(a)\n",
    "print(b)"
   ]
  },
  {
   "cell_type": "code",
   "execution_count": 2,
   "id": "e1e9899e",
   "metadata": {},
   "outputs": [
    {
     "name": "stdout",
     "output_type": "stream",
     "text": [
      "[False False False  True  True  True False False]\n"
     ]
    }
   ],
   "source": [
    "bool_arr=b>10\n",
    "print(bool_arr)"
   ]
  },
  {
   "cell_type": "code",
   "execution_count": 3,
   "id": "58162c11",
   "metadata": {},
   "outputs": [
    {
     "data": {
      "text/plain": [
       "array([13, 14, 16])"
      ]
     },
     "execution_count": 3,
     "metadata": {},
     "output_type": "execute_result"
    }
   ],
   "source": [
    "new_arr=b[bool_arr]\n",
    "new_arr"
   ]
  },
  {
   "cell_type": "code",
   "execution_count": 4,
   "id": "b4e64992",
   "metadata": {},
   "outputs": [
    {
     "name": "stdout",
     "output_type": "stream",
     "text": [
      "[13 14 16]\n"
     ]
    }
   ],
   "source": [
    "new_arr=b[b>10]\n",
    "print(new_arr)"
   ]
  },
  {
   "cell_type": "code",
   "execution_count": 5,
   "id": "61051911",
   "metadata": {},
   "outputs": [
    {
     "data": {
      "text/plain": [
       "array([13, 14, 16])"
      ]
     },
     "execution_count": 5,
     "metadata": {},
     "output_type": "execute_result"
    }
   ],
   "source": [
    "new_arr=b[(b>10) & (b<18)]\n",
    "new_arr"
   ]
  },
  {
   "cell_type": "code",
   "execution_count": 6,
   "id": "78c50921",
   "metadata": {},
   "outputs": [
    {
     "name": "stdout",
     "output_type": "stream",
     "text": [
      "[ 9  1  7 13 14 16  2  5]\n"
     ]
    }
   ],
   "source": [
    "print(b)"
   ]
  },
  {
   "cell_type": "code",
   "execution_count": 7,
   "id": "ea38ccd7",
   "metadata": {},
   "outputs": [
    {
     "data": {
      "text/plain": [
       "array([ 9,  1,  7, 13, 14, 16,  2,  5])"
      ]
     },
     "execution_count": 7,
     "metadata": {},
     "output_type": "execute_result"
    }
   ],
   "source": [
    "c=b\n",
    "c"
   ]
  },
  {
   "cell_type": "code",
   "execution_count": 8,
   "id": "2fdb5f27",
   "metadata": {},
   "outputs": [],
   "source": [
    "c[:3]=19"
   ]
  },
  {
   "cell_type": "code",
   "execution_count": 9,
   "id": "911d97fb",
   "metadata": {},
   "outputs": [
    {
     "data": {
      "text/plain": [
       "array([19, 19, 19, 13, 14, 16,  2,  5])"
      ]
     },
     "execution_count": 9,
     "metadata": {},
     "output_type": "execute_result"
    }
   ],
   "source": [
    "c"
   ]
  },
  {
   "cell_type": "code",
   "execution_count": 10,
   "id": "38418344",
   "metadata": {},
   "outputs": [],
   "source": [
    "c[c>15]=100"
   ]
  },
  {
   "cell_type": "code",
   "execution_count": 11,
   "id": "e971f444",
   "metadata": {},
   "outputs": [
    {
     "data": {
      "text/plain": [
       "array([100, 100, 100,  13,  14, 100,   2,   5])"
      ]
     },
     "execution_count": 11,
     "metadata": {},
     "output_type": "execute_result"
    }
   ],
   "source": [
    "c"
   ]
  },
  {
   "cell_type": "code",
   "execution_count": 13,
   "id": "d1d36ec9",
   "metadata": {},
   "outputs": [
    {
     "data": {
      "text/plain": [
       "(array([0, 1, 2, 3], dtype=int64),)"
      ]
     },
     "execution_count": 13,
     "metadata": {},
     "output_type": "execute_result"
    }
   ],
   "source": [
    "np.where(b[b==100])"
   ]
  },
  {
   "cell_type": "code",
   "execution_count": 14,
   "id": "5c8b27ce",
   "metadata": {},
   "outputs": [],
   "source": [
    "ind=np.where(b[b==100])"
   ]
  },
  {
   "cell_type": "code",
   "execution_count": 15,
   "id": "d72b6fd0",
   "metadata": {},
   "outputs": [
    {
     "name": "stdout",
     "output_type": "stream",
     "text": [
      "(array([0, 1, 2, 3], dtype=int64),)\n"
     ]
    }
   ],
   "source": [
    "print(ind)"
   ]
  },
  {
   "cell_type": "code",
   "execution_count": 16,
   "id": "1e37b583",
   "metadata": {},
   "outputs": [
    {
     "name": "stdout",
     "output_type": "stream",
     "text": [
      "['t' 'b' 'r' 'd']\n"
     ]
    }
   ],
   "source": [
    "print(a[ind])"
   ]
  }
 ],
 "metadata": {
  "kernelspec": {
   "display_name": "Python 3 (ipykernel)",
   "language": "python",
   "name": "python3"
  },
  "language_info": {
   "codemirror_mode": {
    "name": "ipython",
    "version": 3
   },
   "file_extension": ".py",
   "mimetype": "text/x-python",
   "name": "python",
   "nbconvert_exporter": "python",
   "pygments_lexer": "ipython3",
   "version": "3.9.7"
  }
 },
 "nbformat": 4,
 "nbformat_minor": 5
}
