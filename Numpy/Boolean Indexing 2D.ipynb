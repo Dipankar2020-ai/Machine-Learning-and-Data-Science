{
 "cells": [
  {
   "cell_type": "markdown",
   "id": "4b14d1a1",
   "metadata": {},
   "source": [
    "## Boolean Indexing 2D"
   ]
  },
  {
   "cell_type": "code",
   "execution_count": 1,
   "id": "96afb650",
   "metadata": {},
   "outputs": [],
   "source": [
    "import numpy as np"
   ]
  },
  {
   "cell_type": "code",
   "execution_count": 2,
   "id": "b39f1fcd",
   "metadata": {},
   "outputs": [
    {
     "data": {
      "text/plain": [
       "array([[ 8,  9, 12, 16, 26, 14],\n",
       "       [13, 18,  5,  4, 27,  6],\n",
       "       [10, 28, 14, 25,  5, 29],\n",
       "       [ 5, 22,  4, 27, 16,  9],\n",
       "       [ 5, 23, 18, 10,  8, 23]])"
      ]
     },
     "execution_count": 2,
     "metadata": {},
     "output_type": "execute_result"
    }
   ],
   "source": [
    "a=np.random.randint(1,30,(5,6))\n",
    "a"
   ]
  },
  {
   "cell_type": "code",
   "execution_count": 4,
   "id": "506f0b10",
   "metadata": {},
   "outputs": [
    {
     "data": {
      "text/plain": [
       "array([[False, False, False, False,  True, False],\n",
       "       [False, False, False, False,  True, False],\n",
       "       [False,  True, False,  True, False,  True],\n",
       "       [False,  True, False,  True, False, False],\n",
       "       [False,  True, False, False, False,  True]])"
      ]
     },
     "execution_count": 4,
     "metadata": {},
     "output_type": "execute_result"
    }
   ],
   "source": [
    "a>20\n"
   ]
  },
  {
   "cell_type": "code",
   "execution_count": 5,
   "id": "739a2be0",
   "metadata": {},
   "outputs": [],
   "source": [
    "bool_arr=a>20\n"
   ]
  },
  {
   "cell_type": "code",
   "execution_count": 6,
   "id": "ab3e09ee",
   "metadata": {},
   "outputs": [],
   "source": [
    "ans=a[bool_arr]"
   ]
  },
  {
   "cell_type": "code",
   "execution_count": 7,
   "id": "f20e16ba",
   "metadata": {},
   "outputs": [
    {
     "data": {
      "text/plain": [
       "array([26, 27, 28, 25, 29, 22, 27, 23, 23])"
      ]
     },
     "execution_count": 7,
     "metadata": {},
     "output_type": "execute_result"
    }
   ],
   "source": [
    "ans"
   ]
  },
  {
   "cell_type": "code",
   "execution_count": 8,
   "id": "e2356813",
   "metadata": {},
   "outputs": [
    {
     "name": "stdout",
     "output_type": "stream",
     "text": [
      "[[ 8  9 12 16 26 14]\n",
      " [13 18  5  4 27  6]\n",
      " [10 28 14 25  5 29]\n",
      " [ 5 22  4 27 16  9]\n",
      " [ 5 23 18 10  8 23]]\n"
     ]
    }
   ],
   "source": [
    "b=a\n",
    "print(a)"
   ]
  },
  {
   "cell_type": "code",
   "execution_count": 9,
   "id": "79b206af",
   "metadata": {},
   "outputs": [
    {
     "name": "stdout",
     "output_type": "stream",
     "text": [
      "[[  8   9  12  16 100  14]\n",
      " [ 13  18   5   4 100   6]\n",
      " [ 10 100  14 100   5 100]\n",
      " [  5 100   4 100  16   9]\n",
      " [  5 100  18  10   8 100]]\n"
     ]
    }
   ],
   "source": [
    "b[bool_arr]=100\n",
    "print(b)"
   ]
  },
  {
   "cell_type": "code",
   "execution_count": 12,
   "id": "4217e045",
   "metadata": {},
   "outputs": [],
   "source": [
    "c=np.random.randint(1,10,(2,2))"
   ]
  },
  {
   "cell_type": "code",
   "execution_count": 13,
   "id": "d523ac4f",
   "metadata": {},
   "outputs": [
    {
     "data": {
      "text/plain": [
       "array([[3, 6],\n",
       "       [8, 7]])"
      ]
     },
     "execution_count": 13,
     "metadata": {},
     "output_type": "execute_result"
    }
   ],
   "source": [
    "c"
   ]
  },
  {
   "cell_type": "code",
   "execution_count": 15,
   "id": "08924d94",
   "metadata": {},
   "outputs": [
    {
     "name": "stdout",
     "output_type": "stream",
     "text": [
      "[[ True False]\n",
      " [False  True]\n",
      " [ True  True]]\n"
     ]
    }
   ],
   "source": [
    "c_bool=np.array([[True,False],[False,True],[True,True]])\n",
    "print(c_bool)"
   ]
  },
  {
   "cell_type": "code",
   "execution_count": 16,
   "id": "14642e75",
   "metadata": {},
   "outputs": [
    {
     "ename": "IndexError",
     "evalue": "boolean index did not match indexed array along dimension 0; dimension is 2 but corresponding boolean dimension is 3",
     "output_type": "error",
     "traceback": [
      "\u001b[1;31m---------------------------------------------------------------------------\u001b[0m",
      "\u001b[1;31mIndexError\u001b[0m                                Traceback (most recent call last)",
      "\u001b[1;32m~\\AppData\\Local\\Temp/ipykernel_11312/2366859764.py\u001b[0m in \u001b[0;36m<module>\u001b[1;34m\u001b[0m\n\u001b[1;32m----> 1\u001b[1;33m \u001b[0mprint\u001b[0m\u001b[1;33m(\u001b[0m\u001b[0mc\u001b[0m\u001b[1;33m[\u001b[0m\u001b[0mc_bool\u001b[0m\u001b[1;33m]\u001b[0m\u001b[1;33m)\u001b[0m\u001b[1;33m\u001b[0m\u001b[1;33m\u001b[0m\u001b[0m\n\u001b[0m",
      "\u001b[1;31mIndexError\u001b[0m: boolean index did not match indexed array along dimension 0; dimension is 2 but corresponding boolean dimension is 3"
     ]
    }
   ],
   "source": [
    "print(c[c_bool])"
   ]
  },
  {
   "cell_type": "code",
   "execution_count": 19,
   "id": "0aeb3162",
   "metadata": {},
   "outputs": [
    {
     "name": "stdout",
     "output_type": "stream",
     "text": [
      "[[  8   9  12  16 100  14]\n",
      " [ 13  18   5   4 100   6]\n",
      " [ 10 100  14 100   5 100]\n",
      " [  5 100   4 100  16   9]\n",
      " [  5 100  18  10   8 100]]\n"
     ]
    }
   ],
   "source": [
    "print(b)"
   ]
  },
  {
   "cell_type": "code",
   "execution_count": 20,
   "id": "79a46c0d",
   "metadata": {},
   "outputs": [
    {
     "name": "stdout",
     "output_type": "stream",
     "text": [
      "[False False  True  True False]\n"
     ]
    }
   ],
   "source": [
    "bool_arr=b[:,3]==100\n",
    "print(bool_arr)"
   ]
  },
  {
   "cell_type": "code",
   "execution_count": 21,
   "id": "2373594a",
   "metadata": {},
   "outputs": [
    {
     "name": "stdout",
     "output_type": "stream",
     "text": [
      "[[  8   9  12  16 100  14]\n",
      " [ 13  18   5   4 100   6]\n",
      " [ 10 100  14 100   5 100]\n",
      " [  5 100   4 100  16   9]\n",
      " [  5 100  18  10   8 100]]\n"
     ]
    }
   ],
   "source": [
    "b[bool_arr,3]==99\n",
    "print(b)"
   ]
  }
 ],
 "metadata": {
  "kernelspec": {
   "display_name": "Python 3 (ipykernel)",
   "language": "python",
   "name": "python3"
  },
  "language_info": {
   "codemirror_mode": {
    "name": "ipython",
    "version": 3
   },
   "file_extension": ".py",
   "mimetype": "text/x-python",
   "name": "python",
   "nbconvert_exporter": "python",
   "pygments_lexer": "ipython3",
   "version": "3.9.7"
  }
 },
 "nbformat": 4,
 "nbformat_minor": 5
}
