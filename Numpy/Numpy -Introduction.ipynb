{
 "cells": [
  {
   "cell_type": "markdown",
   "id": "ef39a792",
   "metadata": {},
   "source": [
    "### Memory Less"
   ]
  },
  {
   "cell_type": "code",
   "execution_count": 4,
   "id": "57a2f6b4",
   "metadata": {},
   "outputs": [
    {
     "name": "stdout",
     "output_type": "stream",
     "text": [
      "[0, 1, 2, 3, 4, 5, 6, 7, 8, 9, 10, 11, 12, 13, 14, 15, 16, 17, 18, 19, 20, 21, 22, 23, 24, 25, 26, 27, 28, 29, 30, 31, 32, 33, 34, 35, 36, 37, 38, 39, 40, 41, 42, 43, 44, 45, 46, 47, 48, 49, 50, 51, 52, 53, 54, 55, 56, 57, 58, 59, 60, 61, 62, 63, 64, 65, 66, 67, 68, 69, 70, 71, 72, 73, 74, 75, 76, 77, 78, 79, 80, 81, 82, 83, 84, 85, 86, 87, 88, 89, 90, 91, 92, 93, 94, 95, 96, 97, 98, 99]\n",
      "[ 0  1  2  3  4  5  6  7  8  9 10 11 12 13 14 15 16 17 18 19 20 21 22 23\n",
      " 24 25 26 27 28 29 30 31 32 33 34 35 36 37 38 39 40 41 42 43 44 45 46 47\n",
      " 48 49 50 51 52 53 54 55 56 57 58 59 60 61 62 63 64 65 66 67 68 69 70 71\n",
      " 72 73 74 75 76 77 78 79 80 81 82 83 84 85 86 87 88 89 90 91 92 93 94 95\n",
      " 96 97 98 99]\n"
     ]
    }
   ],
   "source": [
    "import numpy as np\n",
    "li_arr=[i for i in range(0,100)]\n",
    "np_arr=np.arange(100)\n",
    "print(li_arr)\n",
    "print(np_arr)\n"
   ]
  },
  {
   "cell_type": "code",
   "execution_count": 3,
   "id": "c2542f54",
   "metadata": {},
   "outputs": [
    {
     "name": "stdout",
     "output_type": "stream",
     "text": [
      "4\n",
      "400\n"
     ]
    }
   ],
   "source": [
    "print(np_arr.itemsize)\n",
    "print(np_arr.itemsize*100)"
   ]
  },
  {
   "cell_type": "code",
   "execution_count": 5,
   "id": "a32a9475",
   "metadata": {},
   "outputs": [
    {
     "name": "stdout",
     "output_type": "stream",
     "text": [
      "28\n",
      "2800\n"
     ]
    }
   ],
   "source": [
    "import sys\n",
    "a=10\n",
    "print(sys.getsizeof(a))\n",
    "print(sys.getsizeof(1)* len(li_arr))"
   ]
  },
  {
   "cell_type": "markdown",
   "id": "8fe5ff59",
   "metadata": {},
   "source": [
    "## Faster and covenience"
   ]
  },
  {
   "cell_type": "code",
   "execution_count": 6,
   "id": "aac40248",
   "metadata": {},
   "outputs": [
    {
     "name": "stdout",
     "output_type": "stream",
     "text": [
      "List=  117.68507957458496\n",
      "Numpy=  35.90965270996094\n"
     ]
    }
   ],
   "source": [
    "import time\n",
    "import numpy as np\n",
    "size=100000\n",
    "def adition_using_list():\n",
    "    t1=time.time()\n",
    "    a=range(size)\n",
    "    b=range(size)\n",
    "    a=[a[i]+b[i] for i in range(size)]\n",
    "    t2=time.time()\n",
    "    return t2-t1\n",
    "def adition_using_numpy():\n",
    "    t1=time.time()\n",
    "    a=np.arange(size)\n",
    "    b=np.arange(size)\n",
    "    c=a+b\n",
    "    t2=time.time()\n",
    "    return t2-t1\n",
    "t_list=adition_using_list()\n",
    "t_numpy=adition_using_numpy()\n",
    "\n",
    "print('List= ',t_list*1000) #Miliseconds\n",
    "print('Numpy= ',t_numpy*1000) #Miliseconds"
   ]
  }
 ],
 "metadata": {
  "kernelspec": {
   "display_name": "Python 3 (ipykernel)",
   "language": "python",
   "name": "python3"
  },
  "language_info": {
   "codemirror_mode": {
    "name": "ipython",
    "version": 3
   },
   "file_extension": ".py",
   "mimetype": "text/x-python",
   "name": "python",
   "nbconvert_exporter": "python",
   "pygments_lexer": "ipython3",
   "version": "3.9.7"
  }
 },
 "nbformat": 4,
 "nbformat_minor": 5
}
