{
 "cells": [
  {
   "cell_type": "markdown",
   "id": "fb639897",
   "metadata": {},
   "source": [
    "## Problem-1 : Terrorism Day\n",
    "Problem Statement :\n",
    "Find the number of attack held between day 10 and day 20?(ignoring the year and month)(including both day)\n",
    "Print count of NumberOFAttack as integer value."
   ]
  },
  {
   "cell_type": "code",
   "execution_count": 12,
   "id": "fc9cfb93",
   "metadata": {},
   "outputs": [
    {
     "name": "stdout",
     "output_type": "stream",
     "text": [
      "66330\n"
     ]
    }
   ],
   "source": [
    "import csv\n",
    "import numpy as np\n",
    "with open('Desktop/terrorismData.csv',encoding=\"utf8\") as file_obj:\n",
    "    data=csv.DictReader(file_obj,skipinitialspace=True)\n",
    "    days = []\n",
    "    for row in data:\n",
    "        days.append(row['Day'])\n",
    "        \n",
    "    np_days = np.array(days, dtype=float)\n",
    "    ans = np_days[(np_days>=10) & (np_days<=20)]\n",
    "    print(len(ans))"
   ]
  },
  {
   "cell_type": "markdown",
   "id": "a3b316ab",
   "metadata": {},
   "source": [
    "### Problem-2 : Terrorism Date\n",
    "Problem Statement :\n",
    "Find the number of attack held between 1 Jan 2010 and 31 Jan 2010?(including both date).\n",
    "Note Ignore the case where day is 0\n",
    "Print count of NumberOFAttack as integer value."
   ]
  },
  {
   "cell_type": "code",
   "execution_count": 19,
   "id": "12f90419",
   "metadata": {},
   "outputs": [
    {
     "name": "stdout",
     "output_type": "stream",
     "text": [
      "271\n"
     ]
    }
   ],
   "source": [
    "import csv\n",
    "import numpy as np\n",
    "with open('Desktop/terrorismData.csv',encoding=\"utf8\") as file_obj:\n",
    "    data=csv.DictReader(file_obj,skipinitialspace=True)\n",
    "    #for row in data:\n",
    "        #print(row)\n",
    "        \n",
    "    days=[]\n",
    "    years=[]\n",
    "    months=[]\n",
    "    for row in data:\n",
    "        days.append(row['Day'])\n",
    "        years.append(row['Year'])\n",
    "        months.append(row['Month'])\n",
    "    np_days=np.array(days,dtype=float)\n",
    "    np_years=np.array(years,dtype=float)\n",
    "    np_months=np.array(months,dtype=float)\n",
    "    np_days = np_days[np_months==1]\n",
    "    np_years = np_years[np_months==1]\n",
    "    np_days = np_days[np_years==2010]\n",
    "    \n",
    "    print(len(np_days[np_days!=0]))\n",
    "\n",
    "    \n",
    "    "
   ]
  },
  {
   "cell_type": "markdown",
   "id": "5c374481",
   "metadata": {},
   "source": [
    "\n",
    "## Problem-3 :Terror Casualty Attack\n",
    "As we knew the Kargil ( in Jammu and Kashmir) War that took place between May 1999 and July 1999 (3 Months) ,so there was a huge conflict in Kashmir Valley during this period.\n",
    "In this dataset, there is no information regarding the war between the two countries to find out the casualty during the war. So find out the attack in this period in which maximum casualties happened.\n",
    "Print the count of casualties (as integer), city in which that attack happened and name of attack group.\n",
    "Note : Casualty = Killed + Wounded.Fill the empty value in killed or wounded feature to 0\n",
    "\n"
   ]
  },
  {
   "cell_type": "code",
   "execution_count": 23,
   "id": "02def960",
   "metadata": {},
   "outputs": [
    {
     "name": "stdout",
     "output_type": "stream",
     "text": [
      "22 Kargil District Separatists\n"
     ]
    }
   ],
   "source": [
    "import csv\n",
    "import numpy as np\n",
    "import csv\n",
    "\n",
    "with open('Desktop/terrorismData.csv',encoding=\"utf8\") as file_obj :\n",
    "    data = csv.DictReader(file_obj,skipinitialspace=True)\n",
    "    \n",
    "    city = []\n",
    "    casualty = []\n",
    "    for row in data:\n",
    "        if row[\"State\"] == \"Jammu and Kashmir\" and row[\"Year\"] == \"1999\" :\n",
    "            if row[\"Month\"] ==\"5\" or row[\"Month\"] == \"6\" or row[\"Month\"] == \"7\" :\n",
    "                casualty.append([row[\"Killed\"],row[\"Wounded\"]])\n",
    "                city.append([row[\"City\"],row['Group']])\n",
    "                \n",
    "    np_city = np.array(city)\n",
    "    np_casualty = np.array(casualty)\n",
    "    \n",
    "    np_casualty[np_casualty==''] = \"0.0\"\n",
    "    np_casualty = np.array(np_casualty, dtype = float)\n",
    "    \n",
    "    np_casualty = np.sum(np_casualty, axis=1)\n",
    "    index = np.argmax(np_casualty)\n",
    "    print(int(np_casualty[index]),np_city[index][0],np_city[index][1])\n",
    "    "
   ]
  }
 ],
 "metadata": {
  "kernelspec": {
   "display_name": "Python 3 (ipykernel)",
   "language": "python",
   "name": "python3"
  },
  "language_info": {
   "codemirror_mode": {
    "name": "ipython",
    "version": 3
   },
   "file_extension": ".py",
   "mimetype": "text/x-python",
   "name": "python",
   "nbconvert_exporter": "python",
   "pygments_lexer": "ipython3",
   "version": "3.9.7"
  }
 },
 "nbformat": 4,
 "nbformat_minor": 5
}
