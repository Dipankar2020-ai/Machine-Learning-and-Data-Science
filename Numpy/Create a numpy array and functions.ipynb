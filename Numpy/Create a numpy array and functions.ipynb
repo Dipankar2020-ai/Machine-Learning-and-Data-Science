{
 "cells": [
  {
   "cell_type": "markdown",
   "id": "51983d29",
   "metadata": {},
   "source": [
    "### create a numpy array"
   ]
  },
  {
   "cell_type": "code",
   "execution_count": 1,
   "id": "246d4bb2",
   "metadata": {},
   "outputs": [
    {
     "name": "stdout",
     "output_type": "stream",
     "text": [
      "[1 2 3]\n",
      "<class 'numpy.ndarray'>\n"
     ]
    }
   ],
   "source": [
    "import numpy as np\n",
    "a=[1,2,3]\n",
    "b=np.array(a)\n",
    "print(b)\n",
    "print(type(b))"
   ]
  },
  {
   "cell_type": "markdown",
   "id": "496b8a04",
   "metadata": {},
   "source": [
    "### Numpy array containts homogeneous elements"
   ]
  },
  {
   "cell_type": "code",
   "execution_count": 2,
   "id": "32ce4111",
   "metadata": {},
   "outputs": [
    {
     "name": "stdout",
     "output_type": "stream",
     "text": [
      "[1 2 3 4 5]\n"
     ]
    }
   ],
   "source": [
    "a=[1,2,3,4,'5']\n",
    "b=np.array(a,dtype=int)\n",
    "print(b)\n"
   ]
  },
  {
   "cell_type": "code",
   "execution_count": 3,
   "id": "8b762918",
   "metadata": {},
   "outputs": [
    {
     "name": "stdout",
     "output_type": "stream",
     "text": [
      "['1' '2' '3' '5' '4.5' '1' '2' '3' '5' '4.5' '1' '2' '3' '5' '4.5']\n"
     ]
    }
   ],
   "source": [
    "a=[1,2,3,'5',4.5]\n",
    "b=np.array(a*3)\n",
    "print(b)"
   ]
  },
  {
   "cell_type": "markdown",
   "id": "76d9ec2a",
   "metadata": {},
   "source": [
    "### Numpy functions"
   ]
  },
  {
   "cell_type": "markdown",
   "id": "d58e9891",
   "metadata": {},
   "source": [
    "## ones()"
   ]
  },
  {
   "cell_type": "code",
   "execution_count": 6,
   "id": "5dbb2874",
   "metadata": {},
   "outputs": [
    {
     "data": {
      "text/plain": [
       "array([1., 1., 1.])"
      ]
     },
     "execution_count": 6,
     "metadata": {},
     "output_type": "execute_result"
    }
   ],
   "source": [
    "b=np.ones(3)\n",
    "b"
   ]
  },
  {
   "cell_type": "code",
   "execution_count": 8,
   "id": "7f402ff0",
   "metadata": {},
   "outputs": [
    {
     "data": {
      "text/plain": [
       "array([1, 1, 1])"
      ]
     },
     "execution_count": 8,
     "metadata": {},
     "output_type": "execute_result"
    }
   ],
   "source": [
    "b=np.ones(3,dtype=int)  # by default data type f numpy array is float\n",
    "b"
   ]
  },
  {
   "cell_type": "code",
   "execution_count": 10,
   "id": "c4407156",
   "metadata": {},
   "outputs": [
    {
     "data": {
      "text/plain": [
       "array([0, 0, 0])"
      ]
     },
     "execution_count": 10,
     "metadata": {},
     "output_type": "execute_result"
    }
   ],
   "source": [
    "b=np.zeros(3,dtype=int)\n",
    "b"
   ]
  },
  {
   "cell_type": "markdown",
   "id": "1fd9c4ce",
   "metadata": {},
   "source": [
    "## creating 2D array"
   ]
  },
  {
   "cell_type": "code",
   "execution_count": 11,
   "id": "977de036",
   "metadata": {},
   "outputs": [
    {
     "data": {
      "text/plain": [
       "array([[1, 1, 1],\n",
       "       [1, 1, 1]])"
      ]
     },
     "execution_count": 11,
     "metadata": {},
     "output_type": "execute_result"
    }
   ],
   "source": [
    "b=np.ones((2,3),dtype=int)\n",
    "b"
   ]
  },
  {
   "cell_type": "markdown",
   "id": "cb18de67",
   "metadata": {},
   "source": [
    "## Zeros()"
   ]
  },
  {
   "cell_type": "code",
   "execution_count": 13,
   "id": "92b54a71",
   "metadata": {},
   "outputs": [
    {
     "data": {
      "text/plain": [
       "array([0, 0, 0])"
      ]
     },
     "execution_count": 13,
     "metadata": {},
     "output_type": "execute_result"
    }
   ],
   "source": [
    "b=np.zeros(3,dtype=int)\n",
    "b"
   ]
  },
  {
   "cell_type": "code",
   "execution_count": 12,
   "id": "b6b203c2",
   "metadata": {},
   "outputs": [
    {
     "data": {
      "text/plain": [
       "array([[0, 0, 0, 0],\n",
       "       [0, 0, 0, 0],\n",
       "       [0, 0, 0, 0]])"
      ]
     },
     "execution_count": 12,
     "metadata": {},
     "output_type": "execute_result"
    }
   ],
   "source": [
    "b=np.zeros((3,4),dtype=int)\n",
    "b"
   ]
  },
  {
   "cell_type": "markdown",
   "id": "a9f32bf3",
   "metadata": {},
   "source": [
    "### Full()"
   ]
  },
  {
   "cell_type": "code",
   "execution_count": 15,
   "id": "b06c0eb1",
   "metadata": {},
   "outputs": [
    {
     "data": {
      "text/plain": [
       "array([5., 5., 5.])"
      ]
     },
     "execution_count": 15,
     "metadata": {},
     "output_type": "execute_result"
    }
   ],
   "source": [
    "b=np.full(3,5.)\n",
    "b"
   ]
  },
  {
   "cell_type": "code",
   "execution_count": 16,
   "id": "dfe8fec3",
   "metadata": {},
   "outputs": [
    {
     "data": {
      "text/plain": [
       "array([['5', '5', '5'],\n",
       "       ['5', '5', '5'],\n",
       "       ['5', '5', '5']], dtype='<U1')"
      ]
     },
     "execution_count": 16,
     "metadata": {},
     "output_type": "execute_result"
    }
   ],
   "source": [
    "b=np.full((3,3),5,dtype=str)\n",
    "b"
   ]
  },
  {
   "cell_type": "markdown",
   "id": "de35d542",
   "metadata": {},
   "source": [
    "## empty()"
   ]
  },
  {
   "cell_type": "code",
   "execution_count": 17,
   "id": "a6a0cbac",
   "metadata": {},
   "outputs": [],
   "source": [
    "### This function returns the uninitialized data that have shape dtype and order defined in function"
   ]
  },
  {
   "cell_type": "code",
   "execution_count": 22,
   "id": "9b814016",
   "metadata": {},
   "outputs": [
    {
     "data": {
      "text/plain": [
       "array([5., 5., 5.])"
      ]
     },
     "execution_count": 22,
     "metadata": {},
     "output_type": "execute_result"
    }
   ],
   "source": [
    "x=np.empty(3)\n",
    "x"
   ]
  },
  {
   "cell_type": "markdown",
   "id": "ee9ee453",
   "metadata": {},
   "source": [
    "## What will be the output"
   ]
  },
  {
   "cell_type": "code",
   "execution_count": 21,
   "id": "00325ddc",
   "metadata": {},
   "outputs": [
    {
     "name": "stdout",
     "output_type": "stream",
     "text": [
      "[-1142590481 -1703420619  -164814277  -320205894]\n"
     ]
    }
   ],
   "source": [
    "a=np.empty(4,dtype=int)\n",
    "print(a)\n",
    "## integer array of size 4 with all numbers of integers"
   ]
  },
  {
   "cell_type": "markdown",
   "id": "79447e15",
   "metadata": {},
   "source": [
    "## Assignment-1"
   ]
  },
  {
   "cell_type": "code",
   "execution_count": 24,
   "id": "9842a709",
   "metadata": {},
   "outputs": [],
   "source": [
    "#Given 2D list create a numpy 2D array using it. 2D list is [[1,2,3],[4,5,6],[7,8,9]]"
   ]
  },
  {
   "cell_type": "code",
   "execution_count": 25,
   "id": "8fac8220",
   "metadata": {},
   "outputs": [
    {
     "data": {
      "text/plain": [
       "array([[1, 2, 3],\n",
       "       [4, 5, 6],\n",
       "       [7, 8, 9]])"
      ]
     },
     "execution_count": 25,
     "metadata": {},
     "output_type": "execute_result"
    }
   ],
   "source": [
    "li=[[1,2,3],[4,5,6],[7,8,9]]\n",
    "ans=np.array(li)\n",
    "ans"
   ]
  },
  {
   "cell_type": "markdown",
   "id": "d5a26917",
   "metadata": {},
   "source": [
    "## Assignment-2"
   ]
  },
  {
   "cell_type": "markdown",
   "id": "ad626cac",
   "metadata": {},
   "source": [
    "# Problem Statement:\n",
    "Create an integer array of size 10, where all the values should be 0 but the fifth value should be 1. Print the elements of array."
   ]
  },
  {
   "cell_type": "code",
   "execution_count": 33,
   "id": "c4288c0a",
   "metadata": {},
   "outputs": [
    {
     "data": {
      "text/plain": [
       "array([0, 0, 0, 0, 1, 0, 0, 0, 0, 0])"
      ]
     },
     "execution_count": 33,
     "metadata": {},
     "output_type": "execute_result"
    }
   ],
   "source": [
    "a=np.zeros(10,dtype=int)\n",
    "a[4]=1\n",
    "a"
   ]
  }
 ],
 "metadata": {
  "kernelspec": {
   "display_name": "Python 3 (ipykernel)",
   "language": "python",
   "name": "python3"
  },
  "language_info": {
   "codemirror_mode": {
    "name": "ipython",
    "version": 3
   },
   "file_extension": ".py",
   "mimetype": "text/x-python",
   "name": "python",
   "nbconvert_exporter": "python",
   "pygments_lexer": "ipython3",
   "version": "3.9.7"
  }
 },
 "nbformat": 4,
 "nbformat_minor": 5
}
