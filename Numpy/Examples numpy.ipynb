{
 "cells": [
  {
   "cell_type": "code",
   "execution_count": 41,
   "id": "391d8bca",
   "metadata": {},
   "outputs": [],
   "source": [
    "import warnings\n",
    "import numpy as np\n",
    "import numpy as np\n",
    "warnings.simplefilter(action='ignore', category=FutureWarning)"
   ]
  },
  {
   "cell_type": "code",
   "execution_count": 42,
   "id": "3175649e",
   "metadata": {},
   "outputs": [],
   "source": [
    "file_obj=open('Desktop/year2017.csv')\n",
    "data=csv.DictReader(file_obj,skipinitialspace=True)\n"
   ]
  },
  {
   "cell_type": "code",
   "execution_count": 43,
   "id": "80e77ec6",
   "metadata": {},
   "outputs": [],
   "source": [
    "#for row in data:\n",
    "    #print(row)"
   ]
  },
  {
   "cell_type": "code",
   "execution_count": 44,
   "id": "58129323",
   "metadata": {},
   "outputs": [
    {
     "data": {
      "text/plain": [
       "array([0., 2., 7., ..., 0., 0., 0.])"
      ]
     },
     "execution_count": 44,
     "metadata": {},
     "output_type": "execute_result"
    }
   ],
   "source": [
    "\n",
    "killed=[]\n",
    "wounded=[]\n",
    "country=[]\n",
    "for row in data:\n",
    "    killed.append(row['Killed'])\n",
    "    country.append(row['Country'])\n",
    "    wounded.append(row['Wounded'])\n",
    "np_killed=np.array(killed)\n",
    "np_wounded=np.array(wounded)\n",
    "np_killed[np_killed=='']= '0.0'\n",
    "np_wounded[np_wounded=='']= '0.0'\n",
    "np_killed=np.array(np_killed,dtype=float)\n",
    "np_wounded=np.array(np_wounded,dtype=float)\n",
    "killed_wounded=np_killed+np_wounded\n",
    "killed_wounded\n"
   ]
  },
  {
   "cell_type": "code",
   "execution_count": 46,
   "id": "c765e3e6",
   "metadata": {},
   "outputs": [],
   "source": [
    "np_country=np.array('Country')\n",
    "bool_arr=np_country=='India'\n",
    "ans=killed_wounded[bool_arr]"
   ]
  },
  {
   "cell_type": "code",
   "execution_count": 48,
   "id": "716a2a62",
   "metadata": {},
   "outputs": [
    {
     "data": {
      "text/plain": [
       "array([], shape=(0, 10900), dtype=float64)"
      ]
     },
     "execution_count": 48,
     "metadata": {},
     "output_type": "execute_result"
    }
   ],
   "source": [
    "ans"
   ]
  }
 ],
 "metadata": {
  "kernelspec": {
   "display_name": "Python 3 (ipykernel)",
   "language": "python",
   "name": "python3"
  },
  "language_info": {
   "codemirror_mode": {
    "name": "ipython",
    "version": 3
   },
   "file_extension": ".py",
   "mimetype": "text/x-python",
   "name": "python",
   "nbconvert_exporter": "python",
   "pygments_lexer": "ipython3",
   "version": "3.9.7"
  }
 },
 "nbformat": 4,
 "nbformat_minor": 5
}
