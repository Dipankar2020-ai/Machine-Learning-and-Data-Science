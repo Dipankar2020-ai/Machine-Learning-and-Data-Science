{
 "cells": [
  {
   "cell_type": "markdown",
   "id": "57ce3ad4",
   "metadata": {},
   "source": [
    "# Calculator"
   ]
  },
  {
   "cell_type": "code",
   "execution_count": 4,
   "id": "c5bee72b",
   "metadata": {},
   "outputs": [
    {
     "name": "stdout",
     "output_type": "stream",
     "text": [
      "6\n",
      "Program exits\n"
     ]
    }
   ],
   "source": [
    "n=int(input())\n",
    "if n==1:\n",
    "    a=int(input())\n",
    "    b=int(input())\n",
    "    sum=a+b\n",
    "    print(sum)\n",
    "elif n==2:\n",
    "    a=int(input())\n",
    "    b=int(input())\n",
    "    diff=a-b\n",
    "    print(diff)\n",
    "elif n==3:\n",
    "    a=int(input())\n",
    "    b=int(input())\n",
    "    mul=a*b\n",
    "    print(mul)\n",
    "elif n==4:\n",
    "    a=int(input())\n",
    "    b=int(input())\n",
    "    div=a/b\n",
    "    print(div)\n",
    "elif n==5:\n",
    "    a=int(input())\n",
    "    b=int(input())\n",
    "    rem=a%b\n",
    "    print(rem)\n",
    "elif n==6:\n",
    "    print(\"Program exits\")\n",
    "    quit()\n",
    "else:\n",
    "    print(\"Invalid Operation\")\n",
    "    \n",
    "    \n",
    "    \n",
    "    \n",
    "    "
   ]
  },
  {
   "cell_type": "markdown",
   "id": "303bce5c",
   "metadata": {},
   "source": [
    "# Reverse of a Number"
   ]
  },
  {
   "cell_type": "code",
   "execution_count": 6,
   "id": "dabc8623",
   "metadata": {},
   "outputs": [
    {
     "name": "stdout",
     "output_type": "stream",
     "text": [
      "1980\n",
      "891\n"
     ]
    }
   ],
   "source": [
    "n=int(input())\n",
    "rev=0\n",
    "while n!=0:\n",
    "    rem=n%10\n",
    "    rev=rev*10+rem\n",
    "    n=n//10\n",
    "print(rev)"
   ]
  },
  {
   "cell_type": "markdown",
   "id": "75fdf81d",
   "metadata": {},
   "source": [
    "# Palindrome Number"
   ]
  },
  {
   "cell_type": "code",
   "execution_count": 10,
   "id": "4a5af20c",
   "metadata": {},
   "outputs": [
    {
     "name": "stdout",
     "output_type": "stream",
     "text": [
      "121\n",
      "true\n"
     ]
    }
   ],
   "source": [
    "n=int(input())\n",
    "rev=0\n",
    "temp=n\n",
    "while n!=0:\n",
    "    rem=n%10\n",
    "    rev=rev*10+rem\n",
    "    n=n//10\n",
    "if rev==temp:\n",
    "    print(\"true\")\n",
    "else:\n",
    "    print(\"false\")"
   ]
  },
  {
   "cell_type": "markdown",
   "id": "701013b8",
   "metadata": {},
   "source": [
    "# Sum of Even and Odd"
   ]
  },
  {
   "cell_type": "code",
   "execution_count": 13,
   "id": "4da32cdf",
   "metadata": {},
   "outputs": [
    {
     "name": "stdout",
     "output_type": "stream",
     "text": [
      "552245\n",
      "8 15\n"
     ]
    }
   ],
   "source": [
    "n=int(input())\n",
    "sum1=0\n",
    "sum2=0\n",
    "\n",
    "while n!=0:\n",
    "    rem=n%10\n",
    "    if rem%2==0:\n",
    "        sum1=sum1+rem\n",
    "    else:\n",
    "        sum2=sum2+rem\n",
    "    n=n//10\n",
    "print(sum1,end=\" \")\n",
    "print(sum2)\n",
    "    "
   ]
  },
  {
   "cell_type": "markdown",
   "id": "b137b32e",
   "metadata": {},
   "source": [
    "# Nth Fibonacci Number"
   ]
  },
  {
   "cell_type": "code",
   "execution_count": 18,
   "id": "c17d6b42",
   "metadata": {},
   "outputs": [
    {
     "name": "stdout",
     "output_type": "stream",
     "text": [
      "6\n",
      "8\n"
     ]
    }
   ],
   "source": [
    "n=int(input())\n",
    "a=1\n",
    "b=1\n",
    "i=2\n",
    "while i<n:\n",
    "    c=a+b\n",
    "    a=b\n",
    "    b=c\n",
    "    i=i+1\n",
    "print(c)\n"
   ]
  }
 ],
 "metadata": {
  "kernelspec": {
   "display_name": "Python 3 (ipykernel)",
   "language": "python",
   "name": "python3"
  },
  "language_info": {
   "codemirror_mode": {
    "name": "ipython",
    "version": 3
   },
   "file_extension": ".py",
   "mimetype": "text/x-python",
   "name": "python",
   "nbconvert_exporter": "python",
   "pygments_lexer": "ipython3",
   "version": "3.9.7"
  }
 },
 "nbformat": 4,
 "nbformat_minor": 5
}
