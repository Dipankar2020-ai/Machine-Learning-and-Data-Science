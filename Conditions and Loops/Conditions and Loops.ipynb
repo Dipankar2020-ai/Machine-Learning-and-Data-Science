{
 "cells": [
  {
   "cell_type": "markdown",
   "id": "7fb984a1",
   "metadata": {},
   "source": [
    "# Boolean data type"
   ]
  },
  {
   "cell_type": "code",
   "execution_count": 1,
   "id": "583c0de7",
   "metadata": {},
   "outputs": [],
   "source": [
    "a=True\n",
    "b=False\n",
    "c=\"Ninjas\""
   ]
  },
  {
   "cell_type": "code",
   "execution_count": 2,
   "id": "39555b23",
   "metadata": {},
   "outputs": [
    {
     "data": {
      "text/plain": [
       "bool"
      ]
     },
     "execution_count": 2,
     "metadata": {},
     "output_type": "execute_result"
    }
   ],
   "source": [
    "type(a)"
   ]
  },
  {
   "cell_type": "markdown",
   "id": "92b9e6cf",
   "metadata": {},
   "source": [
    "# Relational Operators"
   ]
  },
  {
   "cell_type": "code",
   "execution_count": 3,
   "id": "8feb7968",
   "metadata": {},
   "outputs": [
    {
     "data": {
      "text/plain": [
       "False"
      ]
     },
     "execution_count": 3,
     "metadata": {},
     "output_type": "execute_result"
    }
   ],
   "source": [
    "a=10\n",
    "b=20\n",
    "a>b\n"
   ]
  },
  {
   "cell_type": "code",
   "execution_count": 4,
   "id": "521b098c",
   "metadata": {},
   "outputs": [
    {
     "data": {
      "text/plain": [
       "True"
      ]
     },
     "execution_count": 4,
     "metadata": {},
     "output_type": "execute_result"
    }
   ],
   "source": [
    "a<b"
   ]
  },
  {
   "cell_type": "code",
   "execution_count": 5,
   "id": "7296a074",
   "metadata": {},
   "outputs": [
    {
     "data": {
      "text/plain": [
       "False"
      ]
     },
     "execution_count": 5,
     "metadata": {},
     "output_type": "execute_result"
    }
   ],
   "source": [
    "a>=b"
   ]
  },
  {
   "cell_type": "code",
   "execution_count": 6,
   "id": "6d7fe206",
   "metadata": {},
   "outputs": [
    {
     "data": {
      "text/plain": [
       "True"
      ]
     },
     "execution_count": 6,
     "metadata": {},
     "output_type": "execute_result"
    }
   ],
   "source": [
    "a<=b"
   ]
  },
  {
   "cell_type": "code",
   "execution_count": 7,
   "id": "14e4c00a",
   "metadata": {},
   "outputs": [
    {
     "data": {
      "text/plain": [
       "False"
      ]
     },
     "execution_count": 7,
     "metadata": {},
     "output_type": "execute_result"
    }
   ],
   "source": [
    "a==b"
   ]
  },
  {
   "cell_type": "code",
   "execution_count": 8,
   "id": "5d1a749b",
   "metadata": {},
   "outputs": [
    {
     "data": {
      "text/plain": [
       "True"
      ]
     },
     "execution_count": 8,
     "metadata": {},
     "output_type": "execute_result"
    }
   ],
   "source": [
    "a!=b"
   ]
  },
  {
   "cell_type": "markdown",
   "id": "4a6826ec",
   "metadata": {},
   "source": [
    "# Logical Operators "
   ]
  },
  {
   "cell_type": "code",
   "execution_count": 10,
   "id": "8f6edd01",
   "metadata": {},
   "outputs": [
    {
     "name": "stdout",
     "output_type": "stream",
     "text": [
      "False\n"
     ]
    }
   ],
   "source": [
    "c1=a>10\n",
    "c2=b>10\n",
    "r=c1 and c2\n",
    "print(r)"
   ]
  },
  {
   "cell_type": "code",
   "execution_count": 12,
   "id": "8b4c9f50",
   "metadata": {},
   "outputs": [
    {
     "data": {
      "text/plain": [
       "True"
      ]
     },
     "execution_count": 12,
     "metadata": {},
     "output_type": "execute_result"
    }
   ],
   "source": [
    "r2=c1 or c2\n",
    "r2"
   ]
  },
  {
   "cell_type": "code",
   "execution_count": 14,
   "id": "539dae92",
   "metadata": {},
   "outputs": [
    {
     "data": {
      "text/plain": [
       "True"
      ]
     },
     "execution_count": 14,
     "metadata": {},
     "output_type": "execute_result"
    }
   ],
   "source": [
    "r3=not(c1)\n",
    "r3"
   ]
  },
  {
   "cell_type": "markdown",
   "id": "2d9d7d28",
   "metadata": {},
   "source": [
    "# Introduction to IF Else"
   ]
  },
  {
   "cell_type": "code",
   "execution_count": 15,
   "id": "1baf02fb",
   "metadata": {},
   "outputs": [
    {
     "name": "stdout",
     "output_type": "stream",
     "text": [
      "I am inside if\n"
     ]
    }
   ],
   "source": [
    "a=True\n",
    "if a:\n",
    "    print(\"I am inside if\")\n",
    "else:\n",
    "    print(\"I am in else\")"
   ]
  },
  {
   "cell_type": "markdown",
   "id": "e771d4c5",
   "metadata": {},
   "source": [
    "# Check number to be odd or Even"
   ]
  },
  {
   "cell_type": "code",
   "execution_count": 17,
   "id": "d3dfc1af",
   "metadata": {},
   "outputs": [
    {
     "name": "stdout",
     "output_type": "stream",
     "text": [
      "5\n",
      "n is odd\n"
     ]
    }
   ],
   "source": [
    "a=int(input())\n",
    "r=a%2\n",
    "is_even=(r==0)\n",
    "if is_even:\n",
    "    print(\"n is even\")\n",
    "else:\n",
    "    print(\"n is odd\")"
   ]
  },
  {
   "cell_type": "markdown",
   "id": "b038e6fc",
   "metadata": {},
   "source": [
    "# Simplify the logic "
   ]
  },
  {
   "cell_type": "code",
   "execution_count": 18,
   "id": "33a229d4",
   "metadata": {},
   "outputs": [
    {
     "name": "stdout",
     "output_type": "stream",
     "text": [
      "4\n",
      "n is even\n"
     ]
    }
   ],
   "source": [
    "n=int(input())\n",
    "if n%2==0:\n",
    "    print(\"n is even\")\n",
    "else:\n",
    "    print(\"n is odd\")\n",
    "    "
   ]
  },
  {
   "cell_type": "markdown",
   "id": "ae65b643",
   "metadata": {},
   "source": [
    "# Predict the o/p"
   ]
  },
  {
   "cell_type": "code",
   "execution_count": 19,
   "id": "adcb3824",
   "metadata": {},
   "outputs": [
    {
     "name": "stdout",
     "output_type": "stream",
     "text": [
      "Medium\n"
     ]
    }
   ],
   "source": [
    "n=15\n",
    "if n>=1 and n<=10:\n",
    "    print(\"Too large\")\n",
    "elif n>=10 and n<=20:\n",
    "    print(\"Medium\")\n",
    "elif n>=20 and n<=30:\n",
    "    print(\"Large\")\n",
    "else:\n",
    "    print(\"Too small\")"
   ]
  },
  {
   "cell_type": "markdown",
   "id": "9a63673a",
   "metadata": {},
   "source": [
    "# Predict the o/p"
   ]
  },
  {
   "cell_type": "code",
   "execution_count": 20,
   "id": "0b45e7fe",
   "metadata": {},
   "outputs": [
    {
     "name": "stdout",
     "output_type": "stream",
     "text": [
      "Too low\n"
     ]
    }
   ],
   "source": [
    "n=10\n",
    "if n>=1 and n<=10:\n",
    "    print(\"Too low\")\n",
    "elif n>=10 and n<=20:\n",
    "    print(\"Medium\")\n",
    "elif n>=20 and n<=30:\n",
    "    print(\"Large\")\n",
    "else:\n",
    "    print(\"Too Large\")\n"
   ]
  },
  {
   "cell_type": "markdown",
   "id": "5628b6cc",
   "metadata": {},
   "source": [
    "# figure out the output"
   ]
  },
  {
   "cell_type": "code",
   "execution_count": 21,
   "id": "62dfa7b5",
   "metadata": {},
   "outputs": [
    {
     "name": "stdout",
     "output_type": "stream",
     "text": [
      "Inside If\n"
     ]
    }
   ],
   "source": [
    "x=15\n",
    "if x<=15:\n",
    "    print(\"Inside If\")\n",
    "else:\n",
    "    print(\"Inside Else\")"
   ]
  },
  {
   "cell_type": "markdown",
   "id": "23975ac2",
   "metadata": {},
   "source": [
    "# Multiple If's "
   ]
  },
  {
   "cell_type": "code",
   "execution_count": 22,
   "id": "20948be4",
   "metadata": {},
   "outputs": [
    {
     "name": "stdout",
     "output_type": "stream",
     "text": [
      "Hello\n",
      "Hi\n"
     ]
    }
   ],
   "source": [
    "x=5\n",
    "if x<6:\n",
    "    print(\"Hello\")\n",
    "if x==5:\n",
    "    print(\"Hi\")\n",
    "else:\n",
    "    print(\"Hey\")"
   ]
  },
  {
   "cell_type": "markdown",
   "id": "26187daa",
   "metadata": {},
   "source": [
    "# Using Relational and Logical Operators "
   ]
  },
  {
   "cell_type": "code",
   "execution_count": 23,
   "id": "2e46a374",
   "metadata": {},
   "outputs": [
    {
     "name": "stdout",
     "output_type": "stream",
     "text": [
      "11\n",
      "20\n",
      "Both>10\n"
     ]
    }
   ],
   "source": [
    "a=int(input())\n",
    "b=int(input())\n",
    "c1=a>10\n",
    "c2=b>10\n",
    "r=c1 and c2\n",
    "if r:\n",
    "    print(\"Both>10\")\n",
    "else:\n",
    "    print(\"No they are not\")\n",
    "    "
   ]
  },
  {
   "cell_type": "code",
   "execution_count": 24,
   "id": "2d64fc34",
   "metadata": {},
   "outputs": [
    {
     "name": "stdout",
     "output_type": "stream",
     "text": [
      "7\n",
      "It is 7\n"
     ]
    }
   ],
   "source": [
    "a=int (input())\n",
    "if a==7:\n",
    "    print(\"It is 7\")\n",
    "else:\n",
    "    print(\"No it's not 7\")"
   ]
  },
  {
   "cell_type": "markdown",
   "id": "90ca6091",
   "metadata": {},
   "source": [
    "# Using Else If"
   ]
  },
  {
   "cell_type": "code",
   "execution_count": 25,
   "id": "5c2c47b5",
   "metadata": {},
   "outputs": [
    {
     "name": "stdout",
     "output_type": "stream",
     "text": [
      "5\n",
      "2\n",
      "4\n",
      "5\n"
     ]
    }
   ],
   "source": [
    "a=int(input())\n",
    "b=int(input())\n",
    "c=int(input())\n",
    "if a>b and a>c:\n",
    "    print(a)\n",
    "elif b>a and b>c:\n",
    "    print(b)\n",
    "else:\n",
    "    print(c)"
   ]
  },
  {
   "cell_type": "markdown",
   "id": "f40e38bd",
   "metadata": {},
   "source": [
    "# Updated Logic "
   ]
  },
  {
   "cell_type": "code",
   "execution_count": 26,
   "id": "44306240",
   "metadata": {},
   "outputs": [
    {
     "name": "stdout",
     "output_type": "stream",
     "text": [
      "5\n",
      "5\n",
      "3\n",
      "5\n"
     ]
    }
   ],
   "source": [
    "a=int(input())\n",
    "b=int(input())\n",
    "c=int(input())\n",
    "if a>=b and a>=c:\n",
    "    print(a)\n",
    "elif b>=a and b>=c:\n",
    "    print(b)\n",
    "else:\n",
    "    print(c)"
   ]
  },
  {
   "cell_type": "markdown",
   "id": "a3554b50",
   "metadata": {},
   "source": [
    "# Colour Game"
   ]
  },
  {
   "cell_type": "code",
   "execution_count": 27,
   "id": "f91a728f",
   "metadata": {},
   "outputs": [
    {
     "name": "stdout",
     "output_type": "stream",
     "text": [
      "-5\n",
      "White\n"
     ]
    }
   ],
   "source": [
    "n=int(input())\n",
    "if n>10:\n",
    "    print(\"Red\")\n",
    "elif n>=5 and n<=10:\n",
    "    print(\"Green\")\n",
    "elif n>0 and n<5:\n",
    "    print(\"Yellow\")\n",
    "else:\n",
    "    print(\"White\")"
   ]
  },
  {
   "cell_type": "markdown",
   "id": "6a1721ab",
   "metadata": {},
   "source": [
    "# Updated Logic"
   ]
  },
  {
   "cell_type": "code",
   "execution_count": 28,
   "id": "56b0de29",
   "metadata": {},
   "outputs": [
    {
     "name": "stdout",
     "output_type": "stream",
     "text": [
      "6\n",
      "Green\n"
     ]
    }
   ],
   "source": [
    "n=int(input())\n",
    "if n>10:\n",
    "    print(\"Red\")\n",
    "elif n>=5:\n",
    "    print(\"Green\")\n",
    "elif n>0:\n",
    "    print(\"Yellow\")\n",
    "else:\n",
    "    print(\"White\")"
   ]
  },
  {
   "cell_type": "markdown",
   "id": "6a81c884",
   "metadata": {},
   "source": [
    "# Nested Condition"
   ]
  },
  {
   "cell_type": "code",
   "execution_count": 29,
   "id": "82bc097f",
   "metadata": {},
   "outputs": [
    {
     "name": "stdout",
     "output_type": "stream",
     "text": [
      "0\n",
      "n is even\n",
      "n is zero\n"
     ]
    }
   ],
   "source": [
    "n=int(input())\n",
    "if n%2==0:\n",
    "    print(\"n is even\")\n",
    "    if n==0:\n",
    "        print(\"n is zero\")\n",
    "else:\n",
    "    print(\"n is odd\")\n",
    "    "
   ]
  },
  {
   "cell_type": "code",
   "execution_count": 30,
   "id": "eeae6ca9",
   "metadata": {},
   "outputs": [
    {
     "name": "stdout",
     "output_type": "stream",
     "text": [
      "6\n",
      "8\n",
      "1\n"
     ]
    }
   ],
   "source": [
    "n=int(input())\n",
    "m=int(input())\n",
    "if n%2==0:\n",
    "    if m%2==0:\n",
    "        print(1)\n",
    "    else:\n",
    "        print(2)\n",
    "else:\n",
    "    print(3)"
   ]
  },
  {
   "cell_type": "markdown",
   "id": "51518032",
   "metadata": {},
   "source": [
    "# Conditional Question"
   ]
  },
  {
   "cell_type": "code",
   "execution_count": 31,
   "id": "db233463",
   "metadata": {},
   "outputs": [
    {
     "name": "stdout",
     "output_type": "stream",
     "text": [
      "B\n"
     ]
    }
   ],
   "source": [
    "if (10<0) and (0<-10):\n",
    "    print(\"A\")\n",
    "elif (10>0) or False:\n",
    "    print(\"B\")\n",
    "else:\n",
    "    print(\"C\")"
   ]
  },
  {
   "cell_type": "markdown",
   "id": "e04d2bcb",
   "metadata": {},
   "source": [
    "# Conditional Question"
   ]
  },
  {
   "cell_type": "code",
   "execution_count": 33,
   "id": "3e38bddd",
   "metadata": {},
   "outputs": [
    {
     "name": "stdout",
     "output_type": "stream",
     "text": [
      "B\n"
     ]
    }
   ],
   "source": [
    "if True or True:\n",
    "    if False and True or False:\n",
    "        print(\"A\")\n",
    "    elif False and False or True and True:\n",
    "        print(\"B\")\n",
    "    else:\n",
    "        print(\"C\")"
   ]
  },
  {
   "cell_type": "markdown",
   "id": "abac3262",
   "metadata": {},
   "source": [
    "# While Loop"
   ]
  },
  {
   "cell_type": "code",
   "execution_count": 34,
   "id": "58241950",
   "metadata": {},
   "outputs": [
    {
     "name": "stdout",
     "output_type": "stream",
     "text": [
      "1\n",
      "2\n",
      "3\n",
      "4\n",
      "5\n",
      "6\n",
      "7\n",
      "8\n",
      "9\n",
      "10\n"
     ]
    }
   ],
   "source": [
    "i=1\n",
    "while i<=10:\n",
    "    print(i)\n",
    "    i=i+1\n",
    "    "
   ]
  },
  {
   "cell_type": "code",
   "execution_count": null,
   "id": "041cd464",
   "metadata": {},
   "outputs": [],
   "source": [
    "n=int(input()) #Infinite Loop\n",
    "count=1\n",
    "while count<=n:\n",
    "    print(1)"
   ]
  },
  {
   "cell_type": "code",
   "execution_count": 35,
   "id": "b47b2f1c",
   "metadata": {},
   "outputs": [
    {
     "name": "stdout",
     "output_type": "stream",
     "text": [
      "5\n",
      "1\n",
      "2\n",
      "3\n",
      "4\n",
      "5\n"
     ]
    }
   ],
   "source": [
    "n=int(input())\n",
    "count=1\n",
    "while count<=n:\n",
    "    print(count)\n",
    "    count=count+1\n",
    "    "
   ]
  },
  {
   "cell_type": "markdown",
   "id": "a6a82aa7",
   "metadata": {},
   "source": [
    "# Sum of Numbers "
   ]
  },
  {
   "cell_type": "code",
   "execution_count": 38,
   "id": "6797ef8a",
   "metadata": {},
   "outputs": [
    {
     "name": "stdout",
     "output_type": "stream",
     "text": [
      "10\n",
      "Sum of Numbers is  55\n"
     ]
    }
   ],
   "source": [
    "n=int(input())\n",
    "i=1\n",
    "sum=0\n",
    "while i<=n:\n",
    "    sum=sum+i\n",
    "    i=i+1\n",
    "print(\"Sum of Numbers is \",sum)\n",
    "    "
   ]
  },
  {
   "cell_type": "markdown",
   "id": "361d1c09",
   "metadata": {},
   "source": [
    "# Sum of Even Numbers "
   ]
  },
  {
   "cell_type": "code",
   "execution_count": 40,
   "id": "9e730917",
   "metadata": {},
   "outputs": [
    {
     "name": "stdout",
     "output_type": "stream",
     "text": [
      "6\n",
      "sum of even numbers is  12\n"
     ]
    }
   ],
   "source": [
    "n=int(input())\n",
    "i=1\n",
    "sum=0\n",
    "while i<=n:\n",
    "    if i%2==0:\n",
    "        sum=sum+i\n",
    "    i=i+1\n",
    "print(\"sum of even numbers is \",sum)\n",
    "        "
   ]
  },
  {
   "cell_type": "markdown",
   "id": "58103f91",
   "metadata": {},
   "source": [
    "# Primality Checking "
   ]
  },
  {
   "cell_type": "code",
   "execution_count": 44,
   "id": "d7fe5824",
   "metadata": {},
   "outputs": [
    {
     "name": "stdout",
     "output_type": "stream",
     "text": [
      "5\n",
      "Prime\n"
     ]
    }
   ],
   "source": [
    "n=int(input())\n",
    "d=2\n",
    "flag=False\n",
    "while d<n:\n",
    "    if n%d==0:\n",
    "        flag=True\n",
    "    d=d+1\n",
    "if flag:\n",
    "    print(\"Not Prime\")\n",
    "else:\n",
    "    print(\"Prime\")"
   ]
  },
  {
   "cell_type": "markdown",
   "id": "dde912f1",
   "metadata": {},
   "source": [
    "# Predict the o/p"
   ]
  },
  {
   "cell_type": "code",
   "execution_count": 45,
   "id": "e904879c",
   "metadata": {},
   "outputs": [
    {
     "ename": "IndentationError",
     "evalue": "expected an indented block (Temp/ipykernel_16296/1962419873.py, line 3)",
     "output_type": "error",
     "traceback": [
      "\u001b[1;36m  File \u001b[1;32m\"C:\\Users\\DIPANKAR\\AppData\\Local\\Temp/ipykernel_16296/1962419873.py\"\u001b[1;36m, line \u001b[1;32m3\u001b[0m\n\u001b[1;33m    print(i)\u001b[0m\n\u001b[1;37m    ^\u001b[0m\n\u001b[1;31mIndentationError\u001b[0m\u001b[1;31m:\u001b[0m expected an indented block\n"
     ]
    }
   ],
   "source": [
    "i=0\n",
    "while i<10:\n",
    "print(i)\n",
    "i=i+1\n"
   ]
  },
  {
   "cell_type": "markdown",
   "id": "b2a2ff03",
   "metadata": {},
   "source": [
    "# Predict the o/p"
   ]
  },
  {
   "cell_type": "code",
   "execution_count": null,
   "id": "d83ff93e",
   "metadata": {},
   "outputs": [],
   "source": [
    "i=0\n",
    "while i<10:\n",
    "    print(i)\n",
    "i=i+1    #Infinite times"
   ]
  },
  {
   "cell_type": "markdown",
   "id": "8d00ab0d",
   "metadata": {},
   "source": [
    "# Predict the o/p"
   ]
  },
  {
   "cell_type": "code",
   "execution_count": 46,
   "id": "77c83885",
   "metadata": {},
   "outputs": [
    {
     "name": "stdout",
     "output_type": "stream",
     "text": [
      "0\n",
      "1\n",
      "2\n",
      "3\n",
      "4\n",
      "5\n",
      "6\n",
      "7\n",
      "8\n",
      "9\n"
     ]
    }
   ],
   "source": [
    "i=0\n",
    "while i<10:\n",
    "    print(i)\n",
    "    i=i+1\n",
    "    "
   ]
  },
  {
   "cell_type": "markdown",
   "id": "3126da1f",
   "metadata": {},
   "source": [
    "# Nested Loops"
   ]
  },
  {
   "cell_type": "code",
   "execution_count": 49,
   "id": "38c5c10e",
   "metadata": {},
   "outputs": [
    {
     "name": "stdout",
     "output_type": "stream",
     "text": [
      "20\n",
      "2 3 5 7 11 13 17 19 "
     ]
    }
   ],
   "source": [
    "n=int(input())\n",
    "k=2\n",
    "while k<=n:\n",
    "    d=2\n",
    "    flag=False\n",
    "    while d<k:\n",
    "        if k%d==0:\n",
    "            flag=True\n",
    "        d=d+1\n",
    "    if not(flag):\n",
    "        print(k,end=\" \")\n",
    "    k=k+1"
   ]
  }
 ],
 "metadata": {
  "kernelspec": {
   "display_name": "Python 3 (ipykernel)",
   "language": "python",
   "name": "python3"
  },
  "language_info": {
   "codemirror_mode": {
    "name": "ipython",
    "version": 3
   },
   "file_extension": ".py",
   "mimetype": "text/x-python",
   "name": "python",
   "nbconvert_exporter": "python",
   "pygments_lexer": "ipython3",
   "version": "3.9.7"
  }
 },
 "nbformat": 4,
 "nbformat_minor": 5
}
