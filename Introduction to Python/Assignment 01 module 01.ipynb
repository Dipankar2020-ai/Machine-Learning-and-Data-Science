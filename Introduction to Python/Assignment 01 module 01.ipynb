{
 "cells": [
  {
   "cell_type": "markdown",
   "id": "9efce42e",
   "metadata": {},
   "source": [
    "# Find X raised to the power N"
   ]
  },
  {
   "cell_type": "code",
   "execution_count": 1,
   "id": "3acf093a",
   "metadata": {},
   "outputs": [
    {
     "name": "stdout",
     "output_type": "stream",
     "text": [
      "10\n",
      "4\n",
      "10000\n"
     ]
    }
   ],
   "source": [
    "x=int(input())\n",
    "n=int(input())\n",
    "ans=pow(x,n)\n",
    "print(ans)"
   ]
  },
  {
   "cell_type": "markdown",
   "id": "ffb02f3b",
   "metadata": {},
   "source": [
    "# Arithmetic Progression"
   ]
  },
  {
   "cell_type": "code",
   "execution_count": 5,
   "id": "830f1b1b",
   "metadata": {},
   "outputs": [
    {
     "name": "stdout",
     "output_type": "stream",
     "text": [
      "1\n",
      "3\n",
      "5\n",
      "The common difference is: 2\n"
     ]
    }
   ],
   "source": [
    "a=int(input())\n",
    "b=int(input())\n",
    "c=int(input())\n",
    "d1=b-a\n",
    "d2=c-b\n",
    "if d1==d2:\n",
    "    print(\"The common difference is:\",d1)"
   ]
  },
  {
   "cell_type": "markdown",
   "id": "680ce1ea",
   "metadata": {},
   "source": [
    "# Rectangle Area on a plane"
   ]
  },
  {
   "cell_type": "code",
   "execution_count": 6,
   "id": "00acb07f",
   "metadata": {},
   "outputs": [
    {
     "name": "stdout",
     "output_type": "stream",
     "text": [
      "1\n",
      "3\n",
      "1\n",
      "3\n",
      "Rectangle area is 4\n"
     ]
    }
   ],
   "source": [
    "x1=int(input())\n",
    "x2=int(input())\n",
    "y1=int(input())\n",
    "y2=int(input())\n",
    "ans=(x2-x1)*(y2-y1)\n",
    "print(\"Rectangle area is {}\".format(ans))"
   ]
  }
 ],
 "metadata": {
  "kernelspec": {
   "display_name": "Python 3 (ipykernel)",
   "language": "python",
   "name": "python3"
  },
  "language_info": {
   "codemirror_mode": {
    "name": "ipython",
    "version": 3
   },
   "file_extension": ".py",
   "mimetype": "text/x-python",
   "name": "python",
   "nbconvert_exporter": "python",
   "pygments_lexer": "ipython3",
   "version": "3.9.7"
  }
 },
 "nbformat": 4,
 "nbformat_minor": 5
}
