{
 "cells": [
  {
   "cell_type": "markdown",
   "id": "203866c5",
   "metadata": {},
   "source": [
    "# List"
   ]
  },
  {
   "cell_type": "code",
   "execution_count": 1,
   "id": "70501cc7",
   "metadata": {},
   "outputs": [
    {
     "data": {
      "text/plain": [
       "list"
      ]
     },
     "execution_count": 1,
     "metadata": {},
     "output_type": "execute_result"
    }
   ],
   "source": [
    "a=[1,2,3]\n",
    "type(a)"
   ]
  },
  {
   "cell_type": "code",
   "execution_count": 2,
   "id": "6a5e022b",
   "metadata": {},
   "outputs": [],
   "source": [
    "a=list([2,3,4])"
   ]
  },
  {
   "cell_type": "code",
   "execution_count": 3,
   "id": "fcc3349e",
   "metadata": {},
   "outputs": [],
   "source": [
    "a=[1,2,3,4]"
   ]
  },
  {
   "cell_type": "code",
   "execution_count": 6,
   "id": "ba9bbaa3",
   "metadata": {},
   "outputs": [],
   "source": [
    "a[3]=40"
   ]
  },
  {
   "cell_type": "code",
   "execution_count": 7,
   "id": "5d36e2bc",
   "metadata": {},
   "outputs": [
    {
     "data": {
      "text/plain": [
       "[1, 2, 3, 40]"
      ]
     },
     "execution_count": 7,
     "metadata": {},
     "output_type": "execute_result"
    }
   ],
   "source": [
    "a"
   ]
  },
  {
   "cell_type": "code",
   "execution_count": 8,
   "id": "533f269f",
   "metadata": {},
   "outputs": [],
   "source": [
    "a=[1,2,\"abc\",3.4]"
   ]
  },
  {
   "cell_type": "code",
   "execution_count": 9,
   "id": "05110eb4",
   "metadata": {},
   "outputs": [],
   "source": [
    "a[0]=12"
   ]
  },
  {
   "cell_type": "code",
   "execution_count": 10,
   "id": "bfbfdb99",
   "metadata": {},
   "outputs": [
    {
     "data": {
      "text/plain": [
       "[12, 2, 'abc', 3.4]"
      ]
     },
     "execution_count": 10,
     "metadata": {},
     "output_type": "execute_result"
    }
   ],
   "source": [
    "a"
   ]
  },
  {
   "cell_type": "code",
   "execution_count": 12,
   "id": "187a03ae",
   "metadata": {},
   "outputs": [],
   "source": [
    "a=[[1,2,3],4,5,\"abc\"]"
   ]
  },
  {
   "cell_type": "code",
   "execution_count": 13,
   "id": "63eecbb3",
   "metadata": {},
   "outputs": [],
   "source": [
    "b=[0 for i in range(10)]"
   ]
  },
  {
   "cell_type": "code",
   "execution_count": 14,
   "id": "7c6c31f1",
   "metadata": {},
   "outputs": [
    {
     "data": {
      "text/plain": [
       "[0, 0, 0, 0, 0, 0, 0, 0, 0, 0]"
      ]
     },
     "execution_count": 14,
     "metadata": {},
     "output_type": "execute_result"
    }
   ],
   "source": [
    "b"
   ]
  },
  {
   "cell_type": "code",
   "execution_count": 15,
   "id": "323d0a84",
   "metadata": {},
   "outputs": [],
   "source": [
    "b=[i*i for i in range(10)]"
   ]
  },
  {
   "cell_type": "code",
   "execution_count": 16,
   "id": "f2fed44e",
   "metadata": {},
   "outputs": [
    {
     "data": {
      "text/plain": [
       "[0, 1, 4, 9, 16, 25, 36, 49, 64, 81]"
      ]
     },
     "execution_count": 16,
     "metadata": {},
     "output_type": "execute_result"
    }
   ],
   "source": [
    "b"
   ]
  },
  {
   "cell_type": "markdown",
   "id": "76362e78",
   "metadata": {},
   "source": [
    "# select correct command"
   ]
  },
  {
   "cell_type": "code",
   "execution_count": 18,
   "id": "6f343341",
   "metadata": {},
   "outputs": [],
   "source": [
    "#which of the following commands will create a list?\n",
    "#i)list1=list()\n",
    "#ii)list1=[]\n",
    "#iii)list1=([1,2,3])\n",
    "#iv)All of the mentioned"
   ]
  },
  {
   "cell_type": "code",
   "execution_count": 19,
   "id": "c135497d",
   "metadata": {},
   "outputs": [],
   "source": [
    "#=> All of the mentioned"
   ]
  },
  {
   "cell_type": "code",
   "execution_count": 20,
   "id": "d3aaf727",
   "metadata": {},
   "outputs": [],
   "source": [
    "# what is the lenngth"
   ]
  },
  {
   "cell_type": "code",
   "execution_count": 21,
   "id": "42361768",
   "metadata": {},
   "outputs": [
    {
     "name": "stdout",
     "output_type": "stream",
     "text": [
      "5\n"
     ]
    }
   ],
   "source": [
    "a=['h','e','l','l',0]\n",
    "print(len(a))"
   ]
  },
  {
   "cell_type": "markdown",
   "id": "3333273b",
   "metadata": {},
   "source": [
    "# Maximum of List"
   ]
  },
  {
   "cell_type": "code",
   "execution_count": 23,
   "id": "1c886e3c",
   "metadata": {},
   "outputs": [
    {
     "name": "stdout",
     "output_type": "stream",
     "text": [
      "12454\n"
     ]
    }
   ],
   "source": [
    "a=list([2445,133,12454,123])\n",
    "print(max(a))"
   ]
  },
  {
   "cell_type": "markdown",
   "id": "d04993b7",
   "metadata": {},
   "source": [
    "# What is the o/p of following"
   ]
  },
  {
   "cell_type": "code",
   "execution_count": 24,
   "id": "6eac9ce4",
   "metadata": {},
   "outputs": [
    {
     "name": "stdout",
     "output_type": "stream",
     "text": [
      "['h', 'e', 'l', 'l', 'o']\n"
     ]
    }
   ],
   "source": [
    "print([i.lower() for i in \"HELLO\"])\n"
   ]
  },
  {
   "cell_type": "markdown",
   "id": "cba36e08",
   "metadata": {},
   "source": [
    "# What will be the o/p"
   ]
  },
  {
   "cell_type": "code",
   "execution_count": 25,
   "id": "e5ce4e8c",
   "metadata": {},
   "outputs": [
    {
     "name": "stdout",
     "output_type": "stream",
     "text": [
      "abc\n"
     ]
    }
   ],
   "source": [
    "alist=[123,'xyz','zara','abc']\n",
    "print(alist.pop())"
   ]
  },
  {
   "cell_type": "markdown",
   "id": "11a54c50",
   "metadata": {},
   "source": [
    "# Taking input"
   ]
  },
  {
   "cell_type": "code",
   "execution_count": 26,
   "id": "5120ead4",
   "metadata": {},
   "outputs": [
    {
     "name": "stdout",
     "output_type": "stream",
     "text": [
      "2\n",
      "3\n",
      "7\n",
      "5\n",
      "1\n",
      "4\n"
     ]
    }
   ],
   "source": [
    "a=[2,3,7,5,1,4]\n",
    "for i in  a:\n",
    "    print(i)"
   ]
  },
  {
   "cell_type": "code",
   "execution_count": 31,
   "id": "499b81e6",
   "metadata": {},
   "outputs": [
    {
     "name": "stdout",
     "output_type": "stream",
     "text": [
      "Enter the number: 5\n",
      "0\n",
      "1\n",
      "2\n",
      "3\n",
      "4\n"
     ]
    }
   ],
   "source": [
    "n=int(input(\"Enter the number: \"))\n",
    "for i in range(0,n):\n",
    "    print(i)"
   ]
  },
  {
   "cell_type": "code",
   "execution_count": 29,
   "id": "665c1482",
   "metadata": {},
   "outputs": [
    {
     "name": "stdout",
     "output_type": "stream",
     "text": [
      "5\n",
      "1\n",
      "2\n",
      "3\n",
      "4\n",
      "5\n",
      "[1, 2, 3, 4, 5]\n"
     ]
    }
   ],
   "source": [
    "n=int(input())\n",
    "list=[]\n",
    "for i in range(n):\n",
    "    a=int(input())\n",
    "    list.append(a)\n",
    "print(list)"
   ]
  },
  {
   "cell_type": "markdown",
   "id": "76f1ec99",
   "metadata": {},
   "source": [
    "# No size everything in same line"
   ]
  },
  {
   "cell_type": "code",
   "execution_count": 38,
   "id": "a588e85c",
   "metadata": {},
   "outputs": [
    {
     "name": "stdout",
     "output_type": "stream",
     "text": [
      "5 2 3 4 5 6\n",
      "2\n",
      "3\n",
      "4\n",
      "5\n",
      "6\n"
     ]
    }
   ],
   "source": [
    "# 5 2 3 4 5 6\n",
    "str=input()\n",
    "n=int(str[:1])\n",
    "list1=str[1:].split()\n",
    "for i in range(n):\n",
    "    print(list1[i])\n"
   ]
  },
  {
   "cell_type": "code",
   "execution_count": 39,
   "id": "2e3ae99f",
   "metadata": {},
   "outputs": [
    {
     "name": "stdout",
     "output_type": "stream",
     "text": [
      "1 2 3 4 5\n"
     ]
    },
    {
     "data": {
      "text/plain": [
       "[1, 2, 3, 4, 5]"
      ]
     },
     "execution_count": 39,
     "metadata": {},
     "output_type": "execute_result"
    }
   ],
   "source": [
    "line=input()\n",
    "l=line.split()\n",
    "a=[]\n",
    "for s in l:\n",
    "    a.append(int(s))\n",
    "a"
   ]
  },
  {
   "cell_type": "code",
   "execution_count": 40,
   "id": "0fd5a6bb",
   "metadata": {},
   "outputs": [
    {
     "data": {
      "text/plain": [
       "[1, 2]"
      ]
     },
     "execution_count": 40,
     "metadata": {},
     "output_type": "execute_result"
    }
   ],
   "source": [
    "l=['1','2']\n",
    "a=[int(s) for s in l]\n",
    "a"
   ]
  },
  {
   "cell_type": "code",
   "execution_count": 42,
   "id": "d0b3df0d",
   "metadata": {},
   "outputs": [
    {
     "name": "stdout",
     "output_type": "stream",
     "text": [
      "1 2 3 4 5 6\n"
     ]
    },
    {
     "data": {
      "text/plain": [
       "[1, 2, 3, 4, 5, 6]"
      ]
     },
     "execution_count": 42,
     "metadata": {},
     "output_type": "execute_result"
    }
   ],
   "source": [
    "a=[int(s) for s in input().split()]\n",
    "a"
   ]
  },
  {
   "cell_type": "code",
   "execution_count": 43,
   "id": "bf3ceabc",
   "metadata": {},
   "outputs": [
    {
     "name": "stdout",
     "output_type": "stream",
     "text": [
      "5\n",
      "1 2 3 4 5 6\n"
     ]
    },
    {
     "data": {
      "text/plain": [
       "[1, 2, 3, 4, 5, 6]"
      ]
     },
     "execution_count": 43,
     "metadata": {},
     "output_type": "execute_result"
    }
   ],
   "source": [
    "size=int(input())\n",
    "a=[int(s) for s in input().split()]\n",
    "a"
   ]
  },
  {
   "cell_type": "markdown",
   "id": "88fa2b6e",
   "metadata": {},
   "source": [
    "# Difference of Even and odd"
   ]
  },
  {
   "cell_type": "code",
   "execution_count": 45,
   "id": "9e5466f1",
   "metadata": {},
   "outputs": [
    {
     "name": "stdout",
     "output_type": "stream",
     "text": [
      "1 2 3 4 5 6\n"
     ]
    },
    {
     "data": {
      "text/plain": [
       "['1', '2', '3', '4', '5', '6']"
      ]
     },
     "execution_count": 45,
     "metadata": {},
     "output_type": "execute_result"
    }
   ],
   "source": [
    "l=[ s for s in input().split()]\n",
    "l"
   ]
  },
  {
   "cell_type": "code",
   "execution_count": 46,
   "id": "53490721",
   "metadata": {},
   "outputs": [
    {
     "name": "stdout",
     "output_type": "stream",
     "text": [
      "3\n"
     ]
    }
   ],
   "source": [
    "l=[1,2,3,4,5,6]\n",
    "even=0\n",
    "odd=0\n",
    "for i in l:\n",
    "    if i%2==0:\n",
    "        even+=i\n",
    "    else:\n",
    "        odd+=i\n",
    "print(even-odd)\n",
    "        \n",
    "    \n",
    "    "
   ]
  },
  {
   "cell_type": "markdown",
   "id": "64f8c03c",
   "metadata": {},
   "source": [
    "# Swap Alternate"
   ]
  },
  {
   "cell_type": "code",
   "execution_count": 53,
   "id": "d4c7c3bd",
   "metadata": {},
   "outputs": [
    {
     "name": "stdout",
     "output_type": "stream",
     "text": [
      "5\n",
      "2\n",
      "10\n",
      "3\n",
      "11\n",
      "4\n"
     ]
    },
    {
     "data": {
      "text/plain": [
       "[10, 2, 11, 3, 4]"
      ]
     },
     "execution_count": 53,
     "metadata": {},
     "output_type": "execute_result"
    }
   ],
   "source": [
    "# 1,2,3,4,5,6->2,1,4,3,6,5\n",
    "#2,10,3,11,4->10,2,11,3,4\n",
    "n=int(input())\n",
    "\n",
    "list1=[]\n",
    "for i in range(n):\n",
    "    a=int(input())\n",
    "    list1.append(a)\n",
    "    \n",
    "for i in range(0,n-1,2):\n",
    "  \n",
    "        list1[i],list1[i+1]=list1[i+1],list1[i]\n",
    "list1\n",
    "    \n",
    "    \n"
   ]
  },
  {
   "cell_type": "markdown",
   "id": "204ea6bb",
   "metadata": {},
   "source": [
    "# List slicing"
   ]
  },
  {
   "cell_type": "code",
   "execution_count": 54,
   "id": "d106a29d",
   "metadata": {},
   "outputs": [],
   "source": [
    "# a[si:ei]"
   ]
  },
  {
   "cell_type": "code",
   "execution_count": 55,
   "id": "0d8c992f",
   "metadata": {},
   "outputs": [
    {
     "data": {
      "text/plain": [
       "[1, 2, 3]"
      ]
     },
     "execution_count": 55,
     "metadata": {},
     "output_type": "execute_result"
    }
   ],
   "source": [
    "a=[1,2,3,4,5,\"abc\",34,0]\n",
    "a[0:3]"
   ]
  },
  {
   "cell_type": "code",
   "execution_count": 56,
   "id": "0c7f7c9a",
   "metadata": {},
   "outputs": [
    {
     "data": {
      "text/plain": [
       "[5, 'abc']"
      ]
     },
     "execution_count": 56,
     "metadata": {},
     "output_type": "execute_result"
    }
   ],
   "source": [
    "a[4:6]"
   ]
  },
  {
   "cell_type": "code",
   "execution_count": 57,
   "id": "ffbbebb8",
   "metadata": {},
   "outputs": [
    {
     "data": {
      "text/plain": [
       "[4, 5, 'abc', 34, 0]"
      ]
     },
     "execution_count": 57,
     "metadata": {},
     "output_type": "execute_result"
    }
   ],
   "source": [
    "a[3:]"
   ]
  },
  {
   "cell_type": "code",
   "execution_count": 58,
   "id": "a3a090fd",
   "metadata": {},
   "outputs": [
    {
     "data": {
      "text/plain": [
       "[1, 2, 3, 4]"
      ]
     },
     "execution_count": 58,
     "metadata": {},
     "output_type": "execute_result"
    }
   ],
   "source": [
    "a[:4]"
   ]
  },
  {
   "cell_type": "code",
   "execution_count": 59,
   "id": "c5d4f3c9",
   "metadata": {},
   "outputs": [
    {
     "data": {
      "text/plain": [
       "[0, 34, 'abc', 5]"
      ]
     },
     "execution_count": 59,
     "metadata": {},
     "output_type": "execute_result"
    }
   ],
   "source": [
    "a[10:3:-1]"
   ]
  },
  {
   "cell_type": "code",
   "execution_count": 60,
   "id": "8fa2197a",
   "metadata": {},
   "outputs": [
    {
     "data": {
      "text/plain": [
       "[0, 34, 'abc', 5]"
      ]
     },
     "execution_count": 60,
     "metadata": {},
     "output_type": "execute_result"
    }
   ],
   "source": [
    "a[:3:-1]  # from end it is istarting"
   ]
  },
  {
   "cell_type": "code",
   "execution_count": 61,
   "id": "9f7188f9",
   "metadata": {},
   "outputs": [
    {
     "data": {
      "text/plain": [
       "[0, 34, 'abc', 5, 4, 3, 2, 1]"
      ]
     },
     "execution_count": 61,
     "metadata": {},
     "output_type": "execute_result"
    }
   ],
   "source": [
    "#Reverse\n",
    "a[::-1]"
   ]
  },
  {
   "cell_type": "code",
   "execution_count": 62,
   "id": "c601d1f3",
   "metadata": {},
   "outputs": [
    {
     "data": {
      "text/plain": [
       "[1, 2, 3, 4, 5, 'abc', 34, 0]"
      ]
     },
     "execution_count": 62,
     "metadata": {},
     "output_type": "execute_result"
    }
   ],
   "source": [
    "a"
   ]
  },
  {
   "cell_type": "code",
   "execution_count": 63,
   "id": "626314e9",
   "metadata": {},
   "outputs": [],
   "source": [
    "a.reverse()"
   ]
  },
  {
   "cell_type": "code",
   "execution_count": 64,
   "id": "b73c7dc4",
   "metadata": {},
   "outputs": [
    {
     "data": {
      "text/plain": [
       "[0, 34, 'abc', 5, 4, 3, 2, 1]"
      ]
     },
     "execution_count": 64,
     "metadata": {},
     "output_type": "execute_result"
    }
   ],
   "source": [
    "a"
   ]
  },
  {
   "cell_type": "markdown",
   "id": "2a89e4f1",
   "metadata": {},
   "source": [
    "# output question"
   ]
  },
  {
   "cell_type": "code",
   "execution_count": 65,
   "id": "7edcf82c",
   "metadata": {},
   "outputs": [],
   "source": [
    "a=[1,2,3,4,5,6,7,8]"
   ]
  },
  {
   "cell_type": "code",
   "execution_count": 66,
   "id": "a2437f4f",
   "metadata": {},
   "outputs": [
    {
     "data": {
      "text/plain": [
       "[2, 3, 4]"
      ]
     },
     "execution_count": 66,
     "metadata": {},
     "output_type": "execute_result"
    }
   ],
   "source": [
    "a[1:4]"
   ]
  },
  {
   "cell_type": "markdown",
   "id": "23b00af6",
   "metadata": {},
   "source": [
    "# Multi Dimenntional Lists "
   ]
  },
  {
   "cell_type": "code",
   "execution_count": 67,
   "id": "4745665e",
   "metadata": {},
   "outputs": [],
   "source": [
    "l=[1,2,\"abc\",[1,2,3]]"
   ]
  },
  {
   "cell_type": "code",
   "execution_count": 68,
   "id": "d2fa390b",
   "metadata": {},
   "outputs": [],
   "source": [
    "a=[[1,2,3],[4,5,6]]"
   ]
  },
  {
   "cell_type": "code",
   "execution_count": 69,
   "id": "dfba07fb",
   "metadata": {},
   "outputs": [
    {
     "data": {
      "text/plain": [
       "[4, 5, 6]"
      ]
     },
     "execution_count": 69,
     "metadata": {},
     "output_type": "execute_result"
    }
   ],
   "source": [
    "a[1]"
   ]
  },
  {
   "cell_type": "code",
   "execution_count": 70,
   "id": "6f0b61cc",
   "metadata": {},
   "outputs": [
    {
     "data": {
      "text/plain": [
       "[1, 2, 3]"
      ]
     },
     "execution_count": 70,
     "metadata": {},
     "output_type": "execute_result"
    }
   ],
   "source": [
    "a[0]"
   ]
  },
  {
   "cell_type": "code",
   "execution_count": 71,
   "id": "bc500203",
   "metadata": {},
   "outputs": [
    {
     "data": {
      "text/plain": [
       "2"
      ]
     },
     "execution_count": 71,
     "metadata": {},
     "output_type": "execute_result"
    }
   ],
   "source": [
    "a[0][1]"
   ]
  },
  {
   "cell_type": "code",
   "execution_count": 72,
   "id": "e56a7aa2",
   "metadata": {},
   "outputs": [
    {
     "data": {
      "text/plain": [
       "6"
      ]
     },
     "execution_count": 72,
     "metadata": {},
     "output_type": "execute_result"
    }
   ],
   "source": [
    "a[1][2]"
   ]
  },
  {
   "cell_type": "code",
   "execution_count": 73,
   "id": "8dd54d68",
   "metadata": {},
   "outputs": [
    {
     "data": {
      "text/plain": [
       "2"
      ]
     },
     "execution_count": 73,
     "metadata": {},
     "output_type": "execute_result"
    }
   ],
   "source": [
    "len(a)"
   ]
  },
  {
   "cell_type": "code",
   "execution_count": 74,
   "id": "3802c890",
   "metadata": {},
   "outputs": [
    {
     "data": {
      "text/plain": [
       "3"
      ]
     },
     "execution_count": 74,
     "metadata": {},
     "output_type": "execute_result"
    }
   ],
   "source": [
    "len(a[0])"
   ]
  },
  {
   "cell_type": "code",
   "execution_count": 75,
   "id": "5c67db4a",
   "metadata": {},
   "outputs": [
    {
     "data": {
      "text/plain": [
       "3"
      ]
     },
     "execution_count": 75,
     "metadata": {},
     "output_type": "execute_result"
    }
   ],
   "source": [
    "len(a[1])"
   ]
  },
  {
   "cell_type": "code",
   "execution_count": 81,
   "id": "016f636b",
   "metadata": {},
   "outputs": [
    {
     "name": "stdout",
     "output_type": "stream",
     "text": [
      "3 4\n",
      "1 2 3 4\n",
      "5 6 7 8 \n",
      "9 10 11 12\n"
     ]
    },
    {
     "data": {
      "text/plain": [
       "[[1, 2, 3, 4], [5, 6, 7, 8], [9, 10, 11, 12]]"
      ]
     },
     "execution_count": 81,
     "metadata": {},
     "output_type": "execute_result"
    }
   ],
   "source": [
    "size=input().split()\n",
    "m=int(size[0])\n",
    "n=int(size[1])\n",
    "l=[]\n",
    "for i in range(m):\n",
    "    next_row=[int(i) for i in input().split()]\n",
    "    l.append(next_row)\n",
    "l"
   ]
  },
  {
   "cell_type": "code",
   "execution_count": 83,
   "id": "106ced2c",
   "metadata": {},
   "outputs": [
    {
     "name": "stdout",
     "output_type": "stream",
     "text": [
      "3 4\n",
      "1 \n",
      "2\n",
      "3\n",
      "4\n",
      "5\n",
      "6\n",
      "7\n",
      "8\n",
      "9\n",
      "10\n",
      "11\n",
      "12\n"
     ]
    },
    {
     "data": {
      "text/plain": [
       "[[1, 2, 3, 4],\n",
       " [5, 6, 7, 8],\n",
       " [9, 10, 11, 12],\n",
       " [1, 2, 3, 4],\n",
       " [5, 6, 7, 8],\n",
       " [9, 10, 11, 12]]"
      ]
     },
     "execution_count": 83,
     "metadata": {},
     "output_type": "execute_result"
    }
   ],
   "source": [
    "size=input().split()\n",
    "m=int(size[0])\n",
    "n=int(size[1])\n",
    "for i in range(m):\n",
    "    next_row=[]\n",
    "    for j in range(n):\n",
    "        element=int(input())\n",
    "        next_row.append(element)\n",
    "    l.append(next_row)\n",
    "l\n",
    "    "
   ]
  },
  {
   "cell_type": "code",
   "execution_count": 84,
   "id": "45ef84d6",
   "metadata": {},
   "outputs": [
    {
     "name": "stdout",
     "output_type": "stream",
     "text": [
      "3 4\n",
      "1 2 3 4 5 6 7 8 9 10 11 12\n"
     ]
    },
    {
     "data": {
      "text/plain": [
       "[[1, 2, 3, 4], [5, 6, 7, 8], [9, 10, 11, 12]]"
      ]
     },
     "execution_count": 84,
     "metadata": {},
     "output_type": "execute_result"
    }
   ],
   "source": [
    "sizes=input().split()\n",
    "m=int(sizes[0])\n",
    "n=int(sizes[1])\n",
    "a_ld=[int(i) for i in input().split()]\n",
    "l=[]\n",
    "for i in range(m):\n",
    "    start_index=n*i\n",
    "    end_index=n*(i+1)\n",
    "    next_row=a_ld[start_index:end_index]\n",
    "    l.append(next_row)\n",
    "l"
   ]
  },
  {
   "cell_type": "markdown",
   "id": "1b857b3f",
   "metadata": {},
   "source": [
    "# output "
   ]
  },
  {
   "cell_type": "code",
   "execution_count": 85,
   "id": "b32751e7",
   "metadata": {},
   "outputs": [],
   "source": [
    "# Which of the following statements will results in the o/p"
   ]
  },
  {
   "cell_type": "code",
   "execution_count": 86,
   "id": "befa7a20",
   "metadata": {},
   "outputs": [
    {
     "data": {
      "text/plain": [
       "6"
      ]
     },
     "execution_count": 86,
     "metadata": {},
     "output_type": "execute_result"
    }
   ],
   "source": [
    "A=[[1,2,3],\n",
    "  [4,5,6],\n",
    "  [7,8,9]]\n",
    "A[1][2]"
   ]
  },
  {
   "cell_type": "code",
   "execution_count": 89,
   "id": "cdb5dcae",
   "metadata": {},
   "outputs": [
    {
     "name": "stdout",
     "output_type": "stream",
     "text": [
      "[1, 5, 9]\n"
     ]
    }
   ],
   "source": [
    "A=[[1,2,3],\n",
    "  [4,5,6],\n",
    "  [7,8,9]]\n",
    "print([A[i][i] for i in range(len(A))])"
   ]
  },
  {
   "cell_type": "markdown",
   "id": "e8cc72e6",
   "metadata": {},
   "source": [
    "# Multi Dimentional List"
   ]
  },
  {
   "cell_type": "code",
   "execution_count": 90,
   "id": "99278cc9",
   "metadata": {},
   "outputs": [],
   "source": [
    "a=[[1,2,3,4],[5,6,7,8],[9,10,11,12],[13,14,15,16]]"
   ]
  },
  {
   "cell_type": "code",
   "execution_count": 91,
   "id": "749d24e0",
   "metadata": {},
   "outputs": [
    {
     "data": {
      "text/plain": [
       "[[5, 6, 7, 8], [9, 10, 11, 12]]"
      ]
     },
     "execution_count": 91,
     "metadata": {},
     "output_type": "execute_result"
    }
   ],
   "source": [
    "a[1:3]"
   ]
  },
  {
   "cell_type": "code",
   "execution_count": 94,
   "id": "507ad270",
   "metadata": {},
   "outputs": [
    {
     "data": {
      "text/plain": [
       "[0, 0, 0, 0, 0, 0, 0, 0, 0, 0]"
      ]
     },
     "execution_count": 94,
     "metadata": {},
     "output_type": "execute_result"
    }
   ],
   "source": [
    "a=[0 for i in range(10)]\n",
    "a"
   ]
  },
  {
   "cell_type": "code",
   "execution_count": 96,
   "id": "9b18b7b5",
   "metadata": {},
   "outputs": [
    {
     "data": {
      "text/plain": [
       "[[1, 2],\n",
       " [1, 2],\n",
       " [1, 2],\n",
       " [1, 2],\n",
       " [1, 2],\n",
       " [1, 2],\n",
       " [1, 2],\n",
       " [1, 2],\n",
       " [1, 2],\n",
       " [1, 2]]"
      ]
     },
     "execution_count": 96,
     "metadata": {},
     "output_type": "execute_result"
    }
   ],
   "source": [
    "a=[[1,2] for i in range(10)]\n",
    "a"
   ]
  },
  {
   "cell_type": "code",
   "execution_count": 98,
   "id": "d753f9c1",
   "metadata": {},
   "outputs": [
    {
     "data": {
      "text/plain": [
       "[[0, 0, 0, 0, 0],\n",
       " [0, 0, 0, 0, 0],\n",
       " [0, 0, 0, 0, 0],\n",
       " [0, 0, 0, 0, 0],\n",
       " [0, 0, 0, 0, 0],\n",
       " [0, 0, 0, 0, 0],\n",
       " [0, 0, 0, 0, 0],\n",
       " [0, 0, 0, 0, 0],\n",
       " [0, 0, 0, 0, 0],\n",
       " [0, 0, 0, 0, 0]]"
      ]
     },
     "execution_count": 98,
     "metadata": {},
     "output_type": "execute_result"
    }
   ],
   "source": [
    "a=[[0 for j in range(5)] for i in range(10)]\n",
    "a"
   ]
  },
  {
   "cell_type": "code",
   "execution_count": 104,
   "id": "1acb1602",
   "metadata": {},
   "outputs": [
    {
     "name": "stdout",
     "output_type": "stream",
     "text": [
      "0\n",
      "5\n",
      "10\n",
      "15\n"
     ]
    }
   ],
   "source": [
    "def print_column_wise_sum(a):\n",
    "    m=len(a)\n",
    "    if m==0:\n",
    "        return\n",
    "    m=len(a[0])\n",
    "    for i in range(n):\n",
    "        sum_j=0\n",
    "        for j in range(m):\n",
    "            sum_j=sum_j+a[i][j]\n",
    "        print(sum_j)\n",
    "\n",
    "a=[[i for j in range(5)] for i in range(10)]\n",
    "print_column_wise_sum(a)\n",
    "            "
   ]
  },
  {
   "cell_type": "code",
   "execution_count": 105,
   "id": "8b800325",
   "metadata": {},
   "outputs": [
    {
     "data": {
      "text/plain": [
       "[[0, 0, 0, 0, 0],\n",
       " [1, 1, 1, 1, 1],\n",
       " [2, 2, 2, 2, 2],\n",
       " [3, 3, 3, 3, 3],\n",
       " [4, 4, 4, 4, 4],\n",
       " [5, 5, 5, 5, 5],\n",
       " [6, 6, 6, 6, 6],\n",
       " [7, 7, 7, 7, 7],\n",
       " [8, 8, 8, 8, 8],\n",
       " [9, 9, 9, 9, 9]]"
      ]
     },
     "execution_count": 105,
     "metadata": {},
     "output_type": "execute_result"
    }
   ],
   "source": [
    "a=[[i for j in range(5)] for i in range(10)]\n",
    "a"
   ]
  },
  {
   "cell_type": "markdown",
   "id": "28a55885",
   "metadata": {},
   "source": [
    "# What is the output"
   ]
  },
  {
   "cell_type": "code",
   "execution_count": 106,
   "id": "6283c788",
   "metadata": {},
   "outputs": [
    {
     "name": "stdout",
     "output_type": "stream",
     "text": [
      "[11, 12, 13, 14, 10, 20, 30, 40, 50, 60, 70, 80, 90]\n"
     ]
    }
   ],
   "source": [
    "r=[11,12,13,14]\n",
    "A=[[0,10,20],\n",
    "  [30,40,50],\n",
    "  [60,70,80]]\n",
    "for row in A:\n",
    "    for col in row:\n",
    "        r.append(col+10)\n",
    "print(r)"
   ]
  },
  {
   "cell_type": "markdown",
   "id": "99c5d520",
   "metadata": {},
   "source": [
    "# What is the output"
   ]
  },
  {
   "cell_type": "code",
   "execution_count": 109,
   "id": "013cadce",
   "metadata": {},
   "outputs": [
    {
     "name": "stdout",
     "output_type": "stream",
     "text": [
      "[[0, 5, 7], [1, 2], [3, 1, 5]]\n"
     ]
    }
   ],
   "source": [
    "points=[[1,2],[3,1,5],[0,5,7]]\n",
    "points.sort()\n",
    "print(points)\n",
    "#sort function by default sort the list by first column"
   ]
  }
 ],
 "metadata": {
  "kernelspec": {
   "display_name": "Python 3 (ipykernel)",
   "language": "python",
   "name": "python3"
  },
  "language_info": {
   "codemirror_mode": {
    "name": "ipython",
    "version": 3
   },
   "file_extension": ".py",
   "mimetype": "text/x-python",
   "name": "python",
   "nbconvert_exporter": "python",
   "pygments_lexer": "ipython3",
   "version": "3.9.7"
  }
 },
 "nbformat": 4,
 "nbformat_minor": 5
}
