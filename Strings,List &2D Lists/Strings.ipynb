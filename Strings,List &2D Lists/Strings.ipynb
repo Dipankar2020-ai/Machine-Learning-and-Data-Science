{
 "cells": [
  {
   "cell_type": "markdown",
   "id": "40cd958b",
   "metadata": {},
   "source": [
    "# String Introduction"
   ]
  },
  {
   "cell_type": "code",
   "execution_count": 66,
   "id": "31b903b1",
   "metadata": {},
   "outputs": [],
   "source": [
    "# string->Combination of characters"
   ]
  },
  {
   "cell_type": "code",
   "execution_count": 67,
   "id": "741f7252",
   "metadata": {},
   "outputs": [
    {
     "data": {
      "text/plain": [
       "str"
      ]
     },
     "execution_count": 67,
     "metadata": {},
     "output_type": "execute_result"
    }
   ],
   "source": [
    "a=\"abc def\"\n",
    "type(a)"
   ]
  },
  {
   "cell_type": "code",
   "execution_count": 68,
   "id": "f1ff66e8",
   "metadata": {},
   "outputs": [
    {
     "data": {
      "text/plain": [
       "str"
      ]
     },
     "execution_count": 68,
     "metadata": {},
     "output_type": "execute_result"
    }
   ],
   "source": [
    "b=\"abcdef\"\n",
    "type(b)"
   ]
  },
  {
   "cell_type": "code",
   "execution_count": 69,
   "id": "48358f32",
   "metadata": {},
   "outputs": [
    {
     "data": {
      "text/plain": [
       "str"
      ]
     },
     "execution_count": 69,
     "metadata": {},
     "output_type": "execute_result"
    }
   ],
   "source": [
    "c='d'\n",
    "type(c)"
   ]
  },
  {
   "cell_type": "code",
   "execution_count": 70,
   "id": "f16dbb4a",
   "metadata": {},
   "outputs": [
    {
     "ename": "TypeError",
     "evalue": "'int' object is not callable",
     "output_type": "error",
     "traceback": [
      "\u001b[1;31m---------------------------------------------------------------------------\u001b[0m",
      "\u001b[1;31mTypeError\u001b[0m                                 Traceback (most recent call last)",
      "\u001b[1;32m~\\AppData\\Local\\Temp/ipykernel_660/513473135.py\u001b[0m in \u001b[0;36m<module>\u001b[1;34m\u001b[0m\n\u001b[1;32m----> 1\u001b[1;33m \u001b[1;32mfor\u001b[0m \u001b[0mi\u001b[0m \u001b[1;32min\u001b[0m \u001b[0mrange\u001b[0m\u001b[1;33m(\u001b[0m\u001b[1;36m0\u001b[0m\u001b[1;33m,\u001b[0m\u001b[0mlen\u001b[0m\u001b[1;33m(\u001b[0m\u001b[0ma\u001b[0m\u001b[1;33m)\u001b[0m\u001b[1;33m)\u001b[0m\u001b[1;33m:\u001b[0m\u001b[1;33m\u001b[0m\u001b[1;33m\u001b[0m\u001b[0m\n\u001b[0m\u001b[0;32m      2\u001b[0m     \u001b[0mprint\u001b[0m\u001b[1;33m(\u001b[0m\u001b[0ma\u001b[0m\u001b[1;33m[\u001b[0m\u001b[0mi\u001b[0m\u001b[1;33m]\u001b[0m\u001b[1;33m)\u001b[0m\u001b[1;33m\u001b[0m\u001b[1;33m\u001b[0m\u001b[0m\n",
      "\u001b[1;31mTypeError\u001b[0m: 'int' object is not callable"
     ]
    }
   ],
   "source": [
    "for i in range(0,len(a)):\n",
    "    print(a[i])"
   ]
  },
  {
   "cell_type": "code",
   "execution_count": null,
   "id": "d2cf359f",
   "metadata": {},
   "outputs": [],
   "source": [
    "for i in a:\n",
    "    print(i)"
   ]
  },
  {
   "cell_type": "code",
   "execution_count": 72,
   "id": "1d739a70",
   "metadata": {},
   "outputs": [
    {
     "ename": "TypeError",
     "evalue": "'str' object does not support item assignment",
     "output_type": "error",
     "traceback": [
      "\u001b[1;31m---------------------------------------------------------------------------\u001b[0m",
      "\u001b[1;31mTypeError\u001b[0m                                 Traceback (most recent call last)",
      "\u001b[1;32m~\\AppData\\Local\\Temp/ipykernel_660/2039695489.py\u001b[0m in \u001b[0;36m<module>\u001b[1;34m\u001b[0m\n\u001b[1;32m----> 1\u001b[1;33m \u001b[0ma\u001b[0m\u001b[1;33m[\u001b[0m\u001b[1;36m3\u001b[0m\u001b[1;33m]\u001b[0m\u001b[1;33m=\u001b[0m\u001b[1;34m's'\u001b[0m\u001b[1;33m\u001b[0m\u001b[1;33m\u001b[0m\u001b[0m\n\u001b[0m",
      "\u001b[1;31mTypeError\u001b[0m: 'str' object does not support item assignment"
     ]
    }
   ],
   "source": [
    "a[3]='s'"
   ]
  },
  {
   "cell_type": "code",
   "execution_count": 73,
   "id": "0453ba30",
   "metadata": {},
   "outputs": [],
   "source": [
    "a=\"Error\""
   ]
  },
  {
   "cell_type": "code",
   "execution_count": 71,
   "id": "9beb516c",
   "metadata": {},
   "outputs": [
    {
     "name": "stdout",
     "output_type": "stream",
     "text": [
      "abc def\n"
     ]
    }
   ],
   "source": [
    "print(a)"
   ]
  },
  {
   "cell_type": "markdown",
   "id": "419907fc",
   "metadata": {},
   "source": [
    "# String Inbuilt dunction"
   ]
  },
  {
   "cell_type": "code",
   "execution_count": null,
   "id": "463d0ec6",
   "metadata": {},
   "outputs": [],
   "source": [
    "a=\"This is Ankush's pen\""
   ]
  },
  {
   "cell_type": "code",
   "execution_count": null,
   "id": "cf4e6f54",
   "metadata": {},
   "outputs": [],
   "source": [
    "b=\"He said 'Life is good'\""
   ]
  },
  {
   "cell_type": "code",
   "execution_count": 74,
   "id": "d8fc8ce0",
   "metadata": {},
   "outputs": [
    {
     "data": {
      "text/plain": [
       "'abcdef'"
      ]
     },
     "execution_count": 74,
     "metadata": {},
     "output_type": "execute_result"
    }
   ],
   "source": [
    "b"
   ]
  },
  {
   "cell_type": "markdown",
   "id": "62688106",
   "metadata": {},
   "source": [
    "# Functions"
   ]
  },
  {
   "cell_type": "code",
   "execution_count": 75,
   "id": "70f8fbc7",
   "metadata": {},
   "outputs": [
    {
     "data": {
      "text/plain": [
       "('Error', 'abcdef')"
      ]
     },
     "execution_count": 75,
     "metadata": {},
     "output_type": "execute_result"
    }
   ],
   "source": [
    "a,b"
   ]
  },
  {
   "cell_type": "code",
   "execution_count": 76,
   "id": "22f4eb46",
   "metadata": {},
   "outputs": [
    {
     "data": {
      "text/plain": [
       "'Errorabcdef'"
      ]
     },
     "execution_count": 76,
     "metadata": {},
     "output_type": "execute_result"
    }
   ],
   "source": [
    "a+b"
   ]
  },
  {
   "cell_type": "code",
   "execution_count": 77,
   "id": "6a469a39",
   "metadata": {},
   "outputs": [],
   "source": [
    "a=a+b"
   ]
  },
  {
   "cell_type": "markdown",
   "id": "fbaea961",
   "metadata": {},
   "source": [
    "# Comparison"
   ]
  },
  {
   "cell_type": "code",
   "execution_count": 78,
   "id": "5c2f1577",
   "metadata": {},
   "outputs": [
    {
     "data": {
      "text/plain": [
       "False"
      ]
     },
     "execution_count": 78,
     "metadata": {},
     "output_type": "execute_result"
    }
   ],
   "source": [
    "a==b"
   ]
  },
  {
   "cell_type": "code",
   "execution_count": 79,
   "id": "00b4d5b6",
   "metadata": {},
   "outputs": [],
   "source": [
    "a=\"This is Ankush's pen\"\n",
    "b=\"He said 'Life is good'\""
   ]
  },
  {
   "cell_type": "code",
   "execution_count": 80,
   "id": "b46738d2",
   "metadata": {},
   "outputs": [
    {
     "data": {
      "text/plain": [
       "True"
      ]
     },
     "execution_count": 80,
     "metadata": {},
     "output_type": "execute_result"
    }
   ],
   "source": [
    "a>b"
   ]
  },
  {
   "cell_type": "code",
   "execution_count": 81,
   "id": "9e8d1ecb",
   "metadata": {},
   "outputs": [],
   "source": [
    "# 'Z'<'a'"
   ]
  },
  {
   "cell_type": "markdown",
   "id": "ae933def",
   "metadata": {},
   "source": [
    "# Split Function"
   ]
  },
  {
   "cell_type": "code",
   "execution_count": 82,
   "id": "de712e86",
   "metadata": {},
   "outputs": [
    {
     "data": {
      "text/plain": [
       "['This', 'is', 'string']"
      ]
     },
     "execution_count": 82,
     "metadata": {},
     "output_type": "execute_result"
    }
   ],
   "source": [
    "a=\"This is string \"\n",
    "a.split()\n"
   ]
  },
  {
   "cell_type": "code",
   "execution_count": null,
   "id": "b7219d2a",
   "metadata": {},
   "outputs": [],
   "source": [
    "# By default on white space"
   ]
  },
  {
   "cell_type": "code",
   "execution_count": 83,
   "id": "a001a869",
   "metadata": {},
   "outputs": [
    {
     "data": {
      "text/plain": [
       "['Th', ' ', ' string ']"
      ]
     },
     "execution_count": 83,
     "metadata": {},
     "output_type": "execute_result"
    }
   ],
   "source": [
    "a.split('is')"
   ]
  },
  {
   "cell_type": "markdown",
   "id": "eb1fbe16",
   "metadata": {},
   "source": [
    "# Replace()"
   ]
  },
  {
   "cell_type": "code",
   "execution_count": 84,
   "id": "516c7f71",
   "metadata": {},
   "outputs": [
    {
     "data": {
      "text/plain": [
       "'Thare are string '"
      ]
     },
     "execution_count": 84,
     "metadata": {},
     "output_type": "execute_result"
    }
   ],
   "source": [
    "a.replace(\"is\",\"are\")"
   ]
  },
  {
   "cell_type": "markdown",
   "id": "1c5892ed",
   "metadata": {},
   "source": [
    "# Find()"
   ]
  },
  {
   "cell_type": "code",
   "execution_count": 85,
   "id": "6a9c1f17",
   "metadata": {},
   "outputs": [
    {
     "data": {
      "text/plain": [
       "2"
      ]
     },
     "execution_count": 85,
     "metadata": {},
     "output_type": "execute_result"
    }
   ],
   "source": [
    "a.find(\"is\")"
   ]
  },
  {
   "cell_type": "code",
   "execution_count": 86,
   "id": "e785287b",
   "metadata": {},
   "outputs": [
    {
     "data": {
      "text/plain": [
       "-1"
      ]
     },
     "execution_count": 86,
     "metadata": {},
     "output_type": "execute_result"
    }
   ],
   "source": [
    "a.find(\"isff\")"
   ]
  },
  {
   "cell_type": "markdown",
   "id": "694fda2b",
   "metadata": {},
   "source": [
    "# Lower() and Upper()"
   ]
  },
  {
   "cell_type": "code",
   "execution_count": 87,
   "id": "b2bff61f",
   "metadata": {},
   "outputs": [
    {
     "data": {
      "text/plain": [
       "'this is string '"
      ]
     },
     "execution_count": 87,
     "metadata": {},
     "output_type": "execute_result"
    }
   ],
   "source": [
    "a.lower()"
   ]
  },
  {
   "cell_type": "code",
   "execution_count": 88,
   "id": "649c7e06",
   "metadata": {},
   "outputs": [
    {
     "data": {
      "text/plain": [
       "'THIS IS STRING '"
      ]
     },
     "execution_count": 88,
     "metadata": {},
     "output_type": "execute_result"
    }
   ],
   "source": [
    "a.upper()"
   ]
  },
  {
   "cell_type": "markdown",
   "id": "e187835f",
   "metadata": {},
   "source": [
    "# isalpha()"
   ]
  },
  {
   "cell_type": "code",
   "execution_count": 89,
   "id": "c3b9b888",
   "metadata": {},
   "outputs": [
    {
     "data": {
      "text/plain": [
       "False"
      ]
     },
     "execution_count": 89,
     "metadata": {},
     "output_type": "execute_result"
    }
   ],
   "source": [
    "a.isalpha()"
   ]
  },
  {
   "cell_type": "markdown",
   "id": "00806153",
   "metadata": {},
   "source": [
    "# startswith()"
   ]
  },
  {
   "cell_type": "code",
   "execution_count": 90,
   "id": "55398f5a",
   "metadata": {},
   "outputs": [
    {
     "data": {
      "text/plain": [
       "False"
      ]
     },
     "execution_count": 90,
     "metadata": {},
     "output_type": "execute_result"
    }
   ],
   "source": [
    "a.startswith(\"str\")"
   ]
  },
  {
   "cell_type": "code",
   "execution_count": null,
   "id": "42444d6e",
   "metadata": {},
   "outputs": [],
   "source": [
    "# Strings in python are ->Immutable"
   ]
  },
  {
   "cell_type": "markdown",
   "id": "f4311933",
   "metadata": {},
   "source": [
    "# o/p Question"
   ]
  },
  {
   "cell_type": "code",
   "execution_count": 91,
   "id": "d4d308f1",
   "metadata": {},
   "outputs": [
    {
     "name": "stdout",
     "output_type": "stream",
     "text": [
      "abcd\n"
     ]
    }
   ],
   "source": [
    "s=\"abcd\"\n",
    "s.upper()\n",
    "print(s)"
   ]
  },
  {
   "cell_type": "code",
   "execution_count": null,
   "id": "2873e0cf",
   "metadata": {},
   "outputs": [],
   "source": [
    "# s.upper() returns a new object and doesn't make changes in original string object"
   ]
  },
  {
   "cell_type": "markdown",
   "id": "40ad4a44",
   "metadata": {},
   "source": [
    "# o/p question"
   ]
  },
  {
   "cell_type": "code",
   "execution_count": null,
   "id": "fbe18f06",
   "metadata": {},
   "outputs": [],
   "source": [
    "s=\"abcd\"\n",
    "print(s+12)"
   ]
  },
  {
   "cell_type": "markdown",
   "id": "80e0deca",
   "metadata": {},
   "source": [
    "# String slicing"
   ]
  },
  {
   "cell_type": "code",
   "execution_count": 92,
   "id": "4010cabb",
   "metadata": {},
   "outputs": [
    {
     "data": {
      "text/plain": [
       "'s is s'"
      ]
     },
     "execution_count": 92,
     "metadata": {},
     "output_type": "execute_result"
    }
   ],
   "source": [
    "a[3:9]"
   ]
  },
  {
   "cell_type": "code",
   "execution_count": 93,
   "id": "324029ee",
   "metadata": {},
   "outputs": [
    {
     "data": {
      "text/plain": [
       "'i'"
      ]
     },
     "execution_count": 93,
     "metadata": {},
     "output_type": "execute_result"
    }
   ],
   "source": [
    "a[2]"
   ]
  },
  {
   "cell_type": "code",
   "execution_count": 94,
   "id": "81eae333",
   "metadata": {},
   "outputs": [
    {
     "data": {
      "text/plain": [
       "'is '"
      ]
     },
     "execution_count": 94,
     "metadata": {},
     "output_type": "execute_result"
    }
   ],
   "source": [
    "a[2:5]"
   ]
  },
  {
   "cell_type": "code",
   "execution_count": 95,
   "id": "b895e7ea",
   "metadata": {},
   "outputs": [
    {
     "data": {
      "text/plain": [
       "'is st'"
      ]
     },
     "execution_count": 95,
     "metadata": {},
     "output_type": "execute_result"
    }
   ],
   "source": [
    "a[5:10]"
   ]
  },
  {
   "cell_type": "code",
   "execution_count": 96,
   "id": "9177e636",
   "metadata": {},
   "outputs": [
    {
     "data": {
      "text/plain": [
       "'is is string '"
      ]
     },
     "execution_count": 96,
     "metadata": {},
     "output_type": "execute_result"
    }
   ],
   "source": [
    "a[2:]"
   ]
  },
  {
   "cell_type": "code",
   "execution_count": 97,
   "id": "91ea883a",
   "metadata": {},
   "outputs": [
    {
     "data": {
      "text/plain": [
       "'This'"
      ]
     },
     "execution_count": 97,
     "metadata": {},
     "output_type": "execute_result"
    }
   ],
   "source": [
    "a[:4]"
   ]
  },
  {
   "cell_type": "code",
   "execution_count": 98,
   "id": "9e2f3ac5",
   "metadata": {},
   "outputs": [
    {
     "data": {
      "text/plain": [
       "'This is string '"
      ]
     },
     "execution_count": 98,
     "metadata": {},
     "output_type": "execute_result"
    }
   ],
   "source": [
    "a[:]"
   ]
  },
  {
   "cell_type": "code",
   "execution_count": 99,
   "id": "59a7b18a",
   "metadata": {},
   "outputs": [
    {
     "data": {
      "text/plain": [
       "'i ss'"
      ]
     },
     "execution_count": 99,
     "metadata": {},
     "output_type": "execute_result"
    }
   ],
   "source": [
    "a[2:10:2]"
   ]
  },
  {
   "cell_type": "code",
   "execution_count": 101,
   "id": "ff215881",
   "metadata": {},
   "outputs": [
    {
     "data": {
      "text/plain": [
       "''"
      ]
     },
     "execution_count": 101,
     "metadata": {},
     "output_type": "execute_result"
    }
   ],
   "source": [
    "a[2:10:-1]"
   ]
  },
  {
   "cell_type": "code",
   "execution_count": 100,
   "id": "ab8e1fde",
   "metadata": {},
   "outputs": [
    {
     "data": {
      "text/plain": [
       "'rts si s'"
      ]
     },
     "execution_count": 100,
     "metadata": {},
     "output_type": "execute_result"
    }
   ],
   "source": [
    "a[10:2:-1]"
   ]
  },
  {
   "cell_type": "code",
   "execution_count": 102,
   "id": "1eaebdaa",
   "metadata": {},
   "outputs": [
    {
     "name": "stdout",
     "output_type": "stream",
     "text": [
      "xxyx\n"
     ]
    },
    {
     "data": {
      "text/plain": [
       "'yxyx'"
      ]
     },
     "execution_count": 102,
     "metadata": {},
     "output_type": "execute_result"
    }
   ],
   "source": [
    "s=input()\n",
    "a='x'\n",
    "b='y'\n",
    "p=s.find(a)\n",
    "ans=s\n",
    "if p!=-1:\n",
    "    ans=s[:p]+b+s[p+1:]\n",
    "ans"
   ]
  },
  {
   "cell_type": "code",
   "execution_count": null,
   "id": "53ffe36f",
   "metadata": {},
   "outputs": [],
   "source": [
    "# Replace all occurence of a with b\n",
    "s=input()\n",
    "a='x'\n",
    "b='y'\n",
    "ans=s\n",
    "for i in range(0,len(ans)):\n",
    "    if s[i]==a:\n",
    "        ans=ans[:i]+b+ans[i+1:]\n",
    "ans"
   ]
  },
  {
   "cell_type": "markdown",
   "id": "ef821c03",
   "metadata": {},
   "source": [
    "# palindrome Checking"
   ]
  },
  {
   "cell_type": "code",
   "execution_count": null,
   "id": "f41cd9cf",
   "metadata": {},
   "outputs": [],
   "source": [
    "#abcdcba\n",
    "s=input()\n",
    "length=len(s)\n",
    "mid=length//2\n",
    "ans=s[:mid]\n",
    "ans1=s[length-1:mid:-1]\n",
    "#print(ans)\n",
    "#print(ans1)\n",
    "if ans==ans1:\n",
    "    print(\"Palindrome\")\n",
    "else:\n",
    "    print(\"It is not a palindrome\")\n",
    "\n"
   ]
  },
  {
   "cell_type": "code",
   "execution_count": 60,
   "id": "bb2306b1",
   "metadata": {},
   "outputs": [
    {
     "name": "stdout",
     "output_type": "stream",
     "text": [
      "abc\n",
      "a\n",
      "ab\n",
      "abc\n",
      "b\n",
      "bc\n",
      "c\n"
     ]
    }
   ],
   "source": [
    "#a ab abc b bc  c\n",
    "\n",
    "s=input()\n",
    "length=len(s)\n",
    "for i in range(length):\n",
    "    for len in range(i+1,length+1):\n",
    "        print(s[i:len])\n"
   ]
  }
 ],
 "metadata": {
  "kernelspec": {
   "display_name": "Python 3 (ipykernel)",
   "language": "python",
   "name": "python3"
  },
  "language_info": {
   "codemirror_mode": {
    "name": "ipython",
    "version": 3
   },
   "file_extension": ".py",
   "mimetype": "text/x-python",
   "name": "python",
   "nbconvert_exporter": "python",
   "pygments_lexer": "ipython3",
   "version": "3.9.7"
  }
 },
 "nbformat": 4,
 "nbformat_minor": 5
}
